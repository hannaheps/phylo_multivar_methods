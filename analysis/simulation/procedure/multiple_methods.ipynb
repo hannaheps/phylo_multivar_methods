{
 "cells": [
  {
   "cell_type": "markdown",
   "metadata": {},
   "source": [
    "# Test accuracy of different methods on simulated data\n",
    "\n",
    "Tested with qiime2-amplicon-2023.9"
   ]
  },
  {
   "cell_type": "markdown",
   "metadata": {},
   "source": [
    "## Non-QIIME imports"
   ]
  },
  {
   "cell_type": "code",
   "execution_count": 11,
   "metadata": {},
   "outputs": [],
   "source": [
    "import random\n",
    "random.seed(1989)\n",
    "from os import listdir\n",
    "import os.path\n",
    "from os.path import join\n",
    "from pathlib import Path\n",
    "import shutil # for unpacking zip archive\n",
    "import glob # for getting just csv files from archive\n",
    "import subprocess # use python variables in shell script\n",
    "import zipfile # for getting zip contents\n",
    "import pandas as pd\n",
    "import matplotlib.pyplot as plt\n",
    "import sys # stopping code\n",
    "import re # regular expressions\n",
    "\n",
    "data_dir = \"../output/\"\n",
    "listdir(data_dir)\n",
    "\n",
    "# simulation_archive = \"../output/1000microbe_100sim_test.zip\"\n",
    "S01_archive = '../output/S01_host_ER_BM_microbe_random_1000_coral_tree_x100.zip'\n",
    "S02_archive = '../output/S02_host_ER_BM_microbe_bm_1000_coral_tree_x100.zip'\n",
    "S03_archive = '../output/S03_host_ER_BM_microbe_ou_1000_coral_tree_x100.zip'\n",
    "S04_archive = '../output/S04_host_ER_BM_microbe_ou_1000_coral_tree_x100.zip'\n",
    "S05_archive = '../output/S05_host_ER_BM_microbe_ou_1000_coral_tree_x100.zip'\n",
    "S06_archive = '../output/S06_host_ER_BM_microbe_ou_1000_coral_tree_x100.zip'\n",
    "\n",
    "# tmp_archive = \"../output/tmp_sim_archive/\"\n",
    "# TODO - TMP ARCHIVE SHOULD BE INSIDE EXTRACTED ARCHIVE"
   ]
  },
  {
   "cell_type": "markdown",
   "metadata": {},
   "source": [
    "## QIIME2 imports and plugins"
   ]
  },
  {
   "cell_type": "code",
   "execution_count": 12,
   "metadata": {},
   "outputs": [
    {
     "name": "stdout",
     "output_type": "stream",
     "text": [
      "QIIME2 version: 2023.9.2\n",
      "QIIME2 version: 2023.9.2\n"
     ]
    }
   ],
   "source": [
    "import qiime2\n",
    "print(\"QIIME2 version: \" + qiime2.__version__)\n",
    "\n",
    "from qiime2.plugins import feature_table\n",
    "from qiime2 import Metadata\n",
    "from qiime2.plugins.feature_table.methods import rarefy\n",
    "from qiime2.plugins.diversity.pipelines import beta\n",
    "from qiime2.plugins.diversity.visualizers import beta_group_significance\n",
    "from qiime2.plugins.metadata.methods import distance_matrix\n",
    "from qiime2.plugins.diversity.visualizers import mantel\n",
    "\n",
    "from math import floor"
   ]
  },
  {
   "cell_type": "markdown",
   "metadata": {},
   "source": [
    "## Process universal data -- TODO: turn into function\n",
    "*Input* \n",
    "- Metadata [tsv]\n",
    "- Simulated feature data [tsv]\n",
    "\n",
    "*Output*\n",
    "- Metadata [Artifact]\n",
    "- Feature table [Artifact]\n",
    "- Distance matricies (host and microbes) [Artifact]"
   ]
  },
  {
   "cell_type": "code",
   "execution_count": 8,
   "metadata": {},
   "outputs": [],
   "source": [
    "# Convert Brownian motion trait to count data\n",
    "\n",
    "def convert_trait_to_count(trait,base=1.1,n_seqs = 10):\n",
    "    scaling = 1\n",
    "    new_trait = (base**trait)*n_seqs    \n",
    "    new_trait *= scaling\n",
    "    new_trait = new_trait.apply(floor)\n",
    "    return new_trait\n",
    "\n",
    "\n",
    "# Extract sub-Simulation ID [SXX_XXXX]\n",
    "\n",
    "def extract_simulation_id(filename):\n",
    "    # reg expression for getting each subsim id [SXX_XXXX]\n",
    "    pattern = r'^([A-Z]+\\d{2}_\\d{4})'\n",
    "    match = re.search(pattern, Path(filename).stem)\n",
    "    if match:\n",
    "        return match.group(1)\n",
    "    else:\n",
    "        return None"
   ]
  },
  {
   "cell_type": "code",
   "execution_count": 4,
   "metadata": {},
   "outputs": [],
   "source": [
    "# # Delete tmp_archive (if it exists) before continuing to avoid inheriting old files\n",
    "# tmp_archive_path_obj = Path(tmp_archive)\n",
    "# if tmp_archive_path_obj.exists() and tmp_archive_path_obj.is_dir():\n",
    "#     shutil.rmtree(tmp_archive)\n",
    "# os.mkdir(tmp_archive)\n",
    "\n",
    "# # Unzip simulated data archive into raw data folder\n",
    "# raw_data_folder = join(tmp_archive, 'raw_data')\n",
    "# shutil.unpack_archive(filename = simulation_archive, extract_dir = raw_data_folder, format = \"zip\")"
   ]
  },
  {
   "cell_type": "code",
   "execution_count": 9,
   "metadata": {},
   "outputs": [],
   "source": [
    "def process_sim_archive(simulation_zip_archive):\n",
    "\n",
    "    # Extract simulation zip archive into a folder of the same name\n",
    "    sim_folder = os.path.splitext(simulation_zip_archive)[0]\n",
    "    print(\"Generating processed data in: {}\".format(sim_folder))\n",
    "    sim_folder_path_obj = Path(sim_folder)\n",
    "    if sim_folder_path_obj.exists() and sim_folder_path_obj.is_dir():\n",
    "        shutil.rmtree(sim_folder)\n",
    "    os.mkdir(sim_folder)\n",
    "    raw_sim_data_folder = join(sim_folder, 'raw_sim_data')\n",
    "    shutil.unpack_archive(filename = simulation_zip_archive, extract_dir = raw_sim_data_folder, format = \"zip\")\n",
    "    host_files = sorted(glob.glob(join(raw_sim_data_folder, \"*host_traits.tsv\")))\n",
    "    subsim_filestem_list = [extract_simulation_id(filename) for filename in host_files]\n",
    "    feature_files = sorted(glob.glob(join(raw_sim_data_folder, \"*microbial_traits.tsv\")))\n",
    "    n_simulations = len(host_files)\n",
    "\n",
    "\n",
    "    # Create shared data folder for all processed data\n",
    "    shared_data_folder = join(sim_folder, 'shared_data')\n",
    "    os.mkdir(shared_data_folder)\n",
    "\n",
    "\n",
    "    # Loop through simulations and generate qiime artifacts\n",
    "    \n",
    "    # for i in range(1): # for testing\n",
    "    for i in range(n_simulations): # !final product\n",
    "        \n",
    "        # Produce metadata artifacts\n",
    "        tmp_metadata_file = host_files[i]\n",
    "        tmp_filestem = subsim_filestem_list[i]\n",
    "        tmp_metadata = Metadata.load(tmp_metadata_file)\n",
    "        metadata_qza_file = \"\".join([tmp_filestem, '_METADATA.qza'])\n",
    "        tmp_metadata.save(join(shared_data_folder, metadata_qza_file))\n",
    "\n",
    "\n",
    "        # Load feature table\n",
    "        tmp_feature_data_file = feature_files[i]\n",
    "        tmp_feature_data = pd.read_csv(tmp_feature_data_file, sep = '\\t')\n",
    "        tmp_feature_data = tmp_feature_data.set_index(\"#SampleID\")\n",
    "        tmp_feature_data = tmp_feature_data.apply(convert_trait_to_count)\n",
    "        feature_tsv_file = \"\".join([tmp_filestem, '_FEATURE.tsv'])\n",
    "        tmp_feature_data.transpose().to_csv(join(shared_data_folder, feature_tsv_file), sep = \"\\t\")\n",
    "\n",
    "        # Produce feature data artifacts\n",
    "\n",
    "        feature_table_biom_file = \"\".join([tmp_filestem, '_FEATURE.json'])\n",
    "        feature_table_qza_file = \"\".join([tmp_filestem, '_FEATURE.qza'])\n",
    "        rarefied_table_qza_file = \"\".join([tmp_filestem, '_FEATURE_RAREFIED.qza'])\n",
    "        rarefied_table_tsv_file = \"\".join([tmp_filestem, '_FEATURE_RAREFIED.tsv'])\n",
    "\n",
    "        # Convert normal feature table (tsv) to BIOM format (json)\n",
    "        !biom convert --input-fp {join(shared_data_folder, feature_tsv_file)} -o {join(shared_data_folder, feature_table_biom_file)} --table-type='OTU table' --to-json\n",
    "        # Turn BIOM file into Qiime artifact (qza)\n",
    "        !qiime tools import --input-path {join(shared_data_folder, feature_table_biom_file)} --type 'FeatureTable[Frequency]' \\\n",
    "            --input-format BIOMV100Format --output-path {join(shared_data_folder, feature_table_qza_file)}\n",
    "        # Validate Qiime artifact file\n",
    "        !qiime tools validate {join(shared_data_folder, feature_table_qza_file)}\n",
    "        \n",
    "\n",
    "        # Rarefy feature data\n",
    "        feature_table = qiime2.Artifact.load(join(shared_data_folder, feature_table_qza_file))\n",
    "        sequence_depth = 10000\n",
    "        rarefaction_results = rarefy(feature_table, sequence_depth)\n",
    "        rarefied_table = rarefaction_results.rarefied_table\n",
    "        rarefied_table.save(join(shared_data_folder, rarefied_table_qza_file))\n",
    "        rarefied_table.export_data(output_dir= join(shared_data_folder))\n",
    "        rarefied_table_biom_file = \"\".join([tmp_filestem, '_FEATURE_RAREFIED.biom'])\n",
    "        os.rename(join(shared_data_folder, 'feature-table.biom'), join(shared_data_folder, rarefied_table_biom_file))\n",
    "\n",
    "        # Calculate beta diversity distance matrix\n",
    "        rarefied_table = qiime2.Artifact.load(join(shared_data_folder, rarefied_table_qza_file))\n",
    "        beta_div_results = beta(rarefied_table, metric = \"braycurtis\")\n",
    "        beta_dm = beta_div_results.distance_matrix\n",
    "        beta_dm_filename = \"\".join([tmp_filestem, \"_seq_depth_\", str(sequence_depth), '_FEATURE_RAREFIED_DM.qza'])\n",
    "        beta_dm.save(join(shared_data_folder, beta_dm_filename))\n"
   ]
  },
  {
   "cell_type": "code",
   "execution_count": 10,
   "metadata": {},
   "outputs": [
    {
     "name": "stdout",
     "output_type": "stream",
     "text": [
      "Generating processed data in: ../output/S01_host_ER_BM_microbe_random_1000_coral_tree_x100\n",
      "Generating processed data in: ../output/S01_host_ER_BM_microbe_random_1000_coral_tree_x100\n"
     ]
    },
    {
     "name": "stdout",
     "output_type": "stream",
     "text": [
      "\u001b[32mImported ../output/S01_host_ER_BM_microbe_random_1000_coral_tree_x100/shared_data/S01_0001_FEATURE.json as BIOMV100Format to ../output/S01_host_ER_BM_microbe_random_1000_coral_tree_x100/shared_data/S01_0001_FEATURE.qza\u001b[0m\r\n",
      "\u001b[32mImported ../output/S01_host_ER_BM_microbe_random_1000_coral_tree_x100/shared_data/S01_0001_FEATURE.json as BIOMV100Format to ../output/S01_host_ER_BM_microbe_random_1000_coral_tree_x100/shared_data/S01_0001_FEATURE.qza\u001b[0m\r\n"
     ]
    },
    {
     "name": "stdout",
     "output_type": "stream",
     "text": [
      "\u001b[0m\u001b[0m"
     ]
    },
    {
     "name": "stdout",
     "output_type": "stream",
     "text": [
      "\u001b[32mResult ../output/S01_host_ER_BM_microbe_random_1000_coral_tree_x100/shared_data/S01_0001_FEATURE.qza appears to be valid at level=max.\u001b[0m\r\n",
      "\u001b[0m\u001b[32mResult ../output/S01_host_ER_BM_microbe_random_1000_coral_tree_x100/shared_data/S01_0001_FEATURE.qza appears to be valid at level=max.\u001b[0m\r\n",
      "\u001b[0m"
     ]
    },
    {
     "name": "stdout",
     "output_type": "stream",
     "text": [
      "\u001b[32mImported ../output/S01_host_ER_BM_microbe_random_1000_coral_tree_x100/shared_data/S01_0002_FEATURE.json as BIOMV100Format to ../output/S01_host_ER_BM_microbe_random_1000_coral_tree_x100/shared_data/S01_0002_FEATURE.qza\u001b[0m\r\n",
      "\u001b[0m\u001b[32mImported ../output/S01_host_ER_BM_microbe_random_1000_coral_tree_x100/shared_data/S01_0002_FEATURE.json as BIOMV100Format to ../output/S01_host_ER_BM_microbe_random_1000_coral_tree_x100/shared_data/S01_0002_FEATURE.qza\u001b[0m\r\n",
      "\u001b[0m"
     ]
    },
    {
     "name": "stdout",
     "output_type": "stream",
     "text": [
      "\u001b[32mResult ../output/S01_host_ER_BM_microbe_random_1000_coral_tree_x100/shared_data/S01_0002_FEATURE.qza appears to be valid at level=max.\u001b[0m\r\n",
      "\u001b[0m\u001b[32mResult ../output/S01_host_ER_BM_microbe_random_1000_coral_tree_x100/shared_data/S01_0002_FEATURE.qza appears to be valid at level=max.\u001b[0m\r\n",
      "\u001b[0m"
     ]
    },
    {
     "name": "stdout",
     "output_type": "stream",
     "text": [
      "\u001b[32mImported ../output/S01_host_ER_BM_microbe_random_1000_coral_tree_x100/shared_data/S01_0003_FEATURE.json as BIOMV100Format to ../output/S01_host_ER_BM_microbe_random_1000_coral_tree_x100/shared_data/S01_0003_FEATURE.qza\u001b[0m\r\n",
      "\u001b[32mImported ../output/S01_host_ER_BM_microbe_random_1000_coral_tree_x100/shared_data/S01_0003_FEATURE.json as BIOMV100Format to ../output/S01_host_ER_BM_microbe_random_1000_coral_tree_x100/shared_data/S01_0003_FEATURE.qza\u001b[0m\r\n"
     ]
    },
    {
     "name": "stdout",
     "output_type": "stream",
     "text": [
      "\u001b[0m\u001b[0m"
     ]
    },
    {
     "name": "stdout",
     "output_type": "stream",
     "text": [
      "\u001b[32mResult ../output/S01_host_ER_BM_microbe_random_1000_coral_tree_x100/shared_data/S01_0003_FEATURE.qza appears to be valid at level=max.\u001b[0m\r\n",
      "\u001b[0m\u001b[32mResult ../output/S01_host_ER_BM_microbe_random_1000_coral_tree_x100/shared_data/S01_0003_FEATURE.qza appears to be valid at level=max.\u001b[0m\r\n",
      "\u001b[0m"
     ]
    },
    {
     "name": "stdout",
     "output_type": "stream",
     "text": [
      "\u001b[32mImported ../output/S01_host_ER_BM_microbe_random_1000_coral_tree_x100/shared_data/S01_0004_FEATURE.json as BIOMV100Format to ../output/S01_host_ER_BM_microbe_random_1000_coral_tree_x100/shared_data/S01_0004_FEATURE.qza\u001b[0m\r\n",
      "\u001b[32mImported ../output/S01_host_ER_BM_microbe_random_1000_coral_tree_x100/shared_data/S01_0004_FEATURE.json as BIOMV100Format to ../output/S01_host_ER_BM_microbe_random_1000_coral_tree_x100/shared_data/S01_0004_FEATURE.qza\u001b[0m\r\n"
     ]
    },
    {
     "name": "stdout",
     "output_type": "stream",
     "text": [
      "\u001b[0m\u001b[0m"
     ]
    },
    {
     "name": "stdout",
     "output_type": "stream",
     "text": [
      "\u001b[32mResult ../output/S01_host_ER_BM_microbe_random_1000_coral_tree_x100/shared_data/S01_0004_FEATURE.qza appears to be valid at level=max.\u001b[0m\r\n",
      "\u001b[0m\u001b[32mResult ../output/S01_host_ER_BM_microbe_random_1000_coral_tree_x100/shared_data/S01_0004_FEATURE.qza appears to be valid at level=max.\u001b[0m\r\n",
      "\u001b[0m"
     ]
    },
    {
     "name": "stdout",
     "output_type": "stream",
     "text": [
      "\u001b[32mImported ../output/S01_host_ER_BM_microbe_random_1000_coral_tree_x100/shared_data/S01_0005_FEATURE.json as BIOMV100Format to ../output/S01_host_ER_BM_microbe_random_1000_coral_tree_x100/shared_data/S01_0005_FEATURE.qza\u001b[0m\r\n",
      "\u001b[0m\u001b[32mImported ../output/S01_host_ER_BM_microbe_random_1000_coral_tree_x100/shared_data/S01_0005_FEATURE.json as BIOMV100Format to ../output/S01_host_ER_BM_microbe_random_1000_coral_tree_x100/shared_data/S01_0005_FEATURE.qza\u001b[0m\r\n",
      "\u001b[0m"
     ]
    },
    {
     "name": "stdout",
     "output_type": "stream",
     "text": [
      "\u001b[32mResult ../output/S01_host_ER_BM_microbe_random_1000_coral_tree_x100/shared_data/S01_0005_FEATURE.qza appears to be valid at level=max.\u001b[0m\r\n",
      "\u001b[0m\u001b[32mResult ../output/S01_host_ER_BM_microbe_random_1000_coral_tree_x100/shared_data/S01_0005_FEATURE.qza appears to be valid at level=max.\u001b[0m\r\n",
      "\u001b[0m"
     ]
    },
    {
     "name": "stdout",
     "output_type": "stream",
     "text": [
      "\u001b[32mImported ../output/S01_host_ER_BM_microbe_random_1000_coral_tree_x100/shared_data/S01_0006_FEATURE.json as BIOMV100Format to ../output/S01_host_ER_BM_microbe_random_1000_coral_tree_x100/shared_data/S01_0006_FEATURE.qza\u001b[0m\r\n",
      "\u001b[0m\u001b[32mImported ../output/S01_host_ER_BM_microbe_random_1000_coral_tree_x100/shared_data/S01_0006_FEATURE.json as BIOMV100Format to ../output/S01_host_ER_BM_microbe_random_1000_coral_tree_x100/shared_data/S01_0006_FEATURE.qza\u001b[0m\r\n",
      "\u001b[0m"
     ]
    },
    {
     "name": "stdout",
     "output_type": "stream",
     "text": [
      "\u001b[32mResult ../output/S01_host_ER_BM_microbe_random_1000_coral_tree_x100/shared_data/S01_0006_FEATURE.qza appears to be valid at level=max.\u001b[0m\r\n",
      "\u001b[32mResult ../output/S01_host_ER_BM_microbe_random_1000_coral_tree_x100/shared_data/S01_0006_FEATURE.qza appears to be valid at level=max.\u001b[0m\r\n"
     ]
    },
    {
     "name": "stdout",
     "output_type": "stream",
     "text": [
      "\u001b[0m\u001b[0m"
     ]
    },
    {
     "name": "stdout",
     "output_type": "stream",
     "text": [
      "\u001b[32mImported ../output/S01_host_ER_BM_microbe_random_1000_coral_tree_x100/shared_data/S01_0007_FEATURE.json as BIOMV100Format to ../output/S01_host_ER_BM_microbe_random_1000_coral_tree_x100/shared_data/S01_0007_FEATURE.qza\u001b[0m\r\n",
      "\u001b[0m\u001b[32mImported ../output/S01_host_ER_BM_microbe_random_1000_coral_tree_x100/shared_data/S01_0007_FEATURE.json as BIOMV100Format to ../output/S01_host_ER_BM_microbe_random_1000_coral_tree_x100/shared_data/S01_0007_FEATURE.qza\u001b[0m\r\n",
      "\u001b[0m"
     ]
    },
    {
     "name": "stdout",
     "output_type": "stream",
     "text": [
      "\u001b[32mResult ../output/S01_host_ER_BM_microbe_random_1000_coral_tree_x100/shared_data/S01_0007_FEATURE.qza appears to be valid at level=max.\u001b[0m\r\n",
      "\u001b[0m\u001b[32mResult ../output/S01_host_ER_BM_microbe_random_1000_coral_tree_x100/shared_data/S01_0007_FEATURE.qza appears to be valid at level=max.\u001b[0m\r\n",
      "\u001b[0m"
     ]
    },
    {
     "name": "stdout",
     "output_type": "stream",
     "text": [
      "\u001b[32mImported ../output/S01_host_ER_BM_microbe_random_1000_coral_tree_x100/shared_data/S01_0008_FEATURE.json as BIOMV100Format to ../output/S01_host_ER_BM_microbe_random_1000_coral_tree_x100/shared_data/S01_0008_FEATURE.qza\u001b[0m\r\n",
      "\u001b[0m\u001b[32mImported ../output/S01_host_ER_BM_microbe_random_1000_coral_tree_x100/shared_data/S01_0008_FEATURE.json as BIOMV100Format to ../output/S01_host_ER_BM_microbe_random_1000_coral_tree_x100/shared_data/S01_0008_FEATURE.qza\u001b[0m\r\n",
      "\u001b[0m"
     ]
    },
    {
     "name": "stdout",
     "output_type": "stream",
     "text": [
      "\u001b[32mResult ../output/S01_host_ER_BM_microbe_random_1000_coral_tree_x100/shared_data/S01_0008_FEATURE.qza appears to be valid at level=max.\u001b[0m\r\n",
      "\u001b[0m\u001b[32mResult ../output/S01_host_ER_BM_microbe_random_1000_coral_tree_x100/shared_data/S01_0008_FEATURE.qza appears to be valid at level=max.\u001b[0m\r\n",
      "\u001b[0m"
     ]
    },
    {
     "name": "stdout",
     "output_type": "stream",
     "text": [
      "\u001b[32mImported ../output/S01_host_ER_BM_microbe_random_1000_coral_tree_x100/shared_data/S01_0009_FEATURE.json as BIOMV100Format to ../output/S01_host_ER_BM_microbe_random_1000_coral_tree_x100/shared_data/S01_0009_FEATURE.qza\u001b[0m\r\n",
      "\u001b[0m\u001b[32mImported ../output/S01_host_ER_BM_microbe_random_1000_coral_tree_x100/shared_data/S01_0009_FEATURE.json as BIOMV100Format to ../output/S01_host_ER_BM_microbe_random_1000_coral_tree_x100/shared_data/S01_0009_FEATURE.qza\u001b[0m\r\n",
      "\u001b[0m"
     ]
    },
    {
     "name": "stdout",
     "output_type": "stream",
     "text": [
      "\u001b[32mResult ../output/S01_host_ER_BM_microbe_random_1000_coral_tree_x100/shared_data/S01_0009_FEATURE.qza appears to be valid at level=max.\u001b[0m\r\n",
      "\u001b[0m\u001b[32mResult ../output/S01_host_ER_BM_microbe_random_1000_coral_tree_x100/shared_data/S01_0009_FEATURE.qza appears to be valid at level=max.\u001b[0m\r\n",
      "\u001b[0m"
     ]
    },
    {
     "name": "stdout",
     "output_type": "stream",
     "text": [
      "\u001b[32mImported ../output/S01_host_ER_BM_microbe_random_1000_coral_tree_x100/shared_data/S01_0010_FEATURE.json as BIOMV100Format to ../output/S01_host_ER_BM_microbe_random_1000_coral_tree_x100/shared_data/S01_0010_FEATURE.qza\u001b[0m\r\n",
      "\u001b[0m\u001b[32mImported ../output/S01_host_ER_BM_microbe_random_1000_coral_tree_x100/shared_data/S01_0010_FEATURE.json as BIOMV100Format to ../output/S01_host_ER_BM_microbe_random_1000_coral_tree_x100/shared_data/S01_0010_FEATURE.qza\u001b[0m\r\n",
      "\u001b[0m"
     ]
    },
    {
     "name": "stdout",
     "output_type": "stream",
     "text": [
      "\u001b[32mResult ../output/S01_host_ER_BM_microbe_random_1000_coral_tree_x100/shared_data/S01_0010_FEATURE.qza appears to be valid at level=max.\u001b[0m\r\n",
      "\u001b[32mResult ../output/S01_host_ER_BM_microbe_random_1000_coral_tree_x100/shared_data/S01_0010_FEATURE.qza appears to be valid at level=max.\u001b[0m\r\n"
     ]
    },
    {
     "name": "stdout",
     "output_type": "stream",
     "text": [
      "\u001b[0m\u001b[0m"
     ]
    },
    {
     "name": "stdout",
     "output_type": "stream",
     "text": [
      "\u001b[32mImported ../output/S01_host_ER_BM_microbe_random_1000_coral_tree_x100/shared_data/S01_0011_FEATURE.json as BIOMV100Format to ../output/S01_host_ER_BM_microbe_random_1000_coral_tree_x100/shared_data/S01_0011_FEATURE.qza\u001b[0m\r\n",
      "\u001b[0m\u001b[32mImported ../output/S01_host_ER_BM_microbe_random_1000_coral_tree_x100/shared_data/S01_0011_FEATURE.json as BIOMV100Format to ../output/S01_host_ER_BM_microbe_random_1000_coral_tree_x100/shared_data/S01_0011_FEATURE.qza\u001b[0m\r\n",
      "\u001b[0m"
     ]
    },
    {
     "name": "stdout",
     "output_type": "stream",
     "text": [
      "\u001b[32mResult ../output/S01_host_ER_BM_microbe_random_1000_coral_tree_x100/shared_data/S01_0011_FEATURE.qza appears to be valid at level=max.\u001b[0m\r\n",
      "\u001b[0m\u001b[32mResult ../output/S01_host_ER_BM_microbe_random_1000_coral_tree_x100/shared_data/S01_0011_FEATURE.qza appears to be valid at level=max.\u001b[0m\r\n",
      "\u001b[0m"
     ]
    },
    {
     "name": "stdout",
     "output_type": "stream",
     "text": [
      "\u001b[32mImported ../output/S01_host_ER_BM_microbe_random_1000_coral_tree_x100/shared_data/S01_0012_FEATURE.json as BIOMV100Format to ../output/S01_host_ER_BM_microbe_random_1000_coral_tree_x100/shared_data/S01_0012_FEATURE.qza\u001b[0m\r\n",
      "\u001b[0m\u001b[32mImported ../output/S01_host_ER_BM_microbe_random_1000_coral_tree_x100/shared_data/S01_0012_FEATURE.json as BIOMV100Format to ../output/S01_host_ER_BM_microbe_random_1000_coral_tree_x100/shared_data/S01_0012_FEATURE.qza\u001b[0m\r\n",
      "\u001b[0m"
     ]
    },
    {
     "name": "stdout",
     "output_type": "stream",
     "text": [
      "\u001b[32mResult ../output/S01_host_ER_BM_microbe_random_1000_coral_tree_x100/shared_data/S01_0012_FEATURE.qza appears to be valid at level=max.\u001b[0m\r\n",
      "\u001b[0m\u001b[32mResult ../output/S01_host_ER_BM_microbe_random_1000_coral_tree_x100/shared_data/S01_0012_FEATURE.qza appears to be valid at level=max.\u001b[0m\r\n",
      "\u001b[0m"
     ]
    },
    {
     "name": "stdout",
     "output_type": "stream",
     "text": [
      "\u001b[32mImported ../output/S01_host_ER_BM_microbe_random_1000_coral_tree_x100/shared_data/S01_0013_FEATURE.json as BIOMV100Format to ../output/S01_host_ER_BM_microbe_random_1000_coral_tree_x100/shared_data/S01_0013_FEATURE.qza\u001b[0m\r\n",
      "\u001b[0m\u001b[32mImported ../output/S01_host_ER_BM_microbe_random_1000_coral_tree_x100/shared_data/S01_0013_FEATURE.json as BIOMV100Format to ../output/S01_host_ER_BM_microbe_random_1000_coral_tree_x100/shared_data/S01_0013_FEATURE.qza\u001b[0m\r\n",
      "\u001b[0m"
     ]
    },
    {
     "name": "stdout",
     "output_type": "stream",
     "text": [
      "\u001b[32mResult ../output/S01_host_ER_BM_microbe_random_1000_coral_tree_x100/shared_data/S01_0013_FEATURE.qza appears to be valid at level=max.\u001b[0m\r\n",
      "\u001b[0m\u001b[32mResult ../output/S01_host_ER_BM_microbe_random_1000_coral_tree_x100/shared_data/S01_0013_FEATURE.qza appears to be valid at level=max.\u001b[0m\r\n",
      "\u001b[0m"
     ]
    },
    {
     "name": "stdout",
     "output_type": "stream",
     "text": [
      "\u001b[32mImported ../output/S01_host_ER_BM_microbe_random_1000_coral_tree_x100/shared_data/S01_0014_FEATURE.json as BIOMV100Format to ../output/S01_host_ER_BM_microbe_random_1000_coral_tree_x100/shared_data/S01_0014_FEATURE.qza\u001b[0m\r\n",
      "\u001b[0m\u001b[32mImported ../output/S01_host_ER_BM_microbe_random_1000_coral_tree_x100/shared_data/S01_0014_FEATURE.json as BIOMV100Format to ../output/S01_host_ER_BM_microbe_random_1000_coral_tree_x100/shared_data/S01_0014_FEATURE.qza\u001b[0m\r\n",
      "\u001b[0m"
     ]
    },
    {
     "name": "stdout",
     "output_type": "stream",
     "text": [
      "\u001b[32mResult ../output/S01_host_ER_BM_microbe_random_1000_coral_tree_x100/shared_data/S01_0014_FEATURE.qza appears to be valid at level=max.\u001b[0m\r\n",
      "\u001b[0m\u001b[32mResult ../output/S01_host_ER_BM_microbe_random_1000_coral_tree_x100/shared_data/S01_0014_FEATURE.qza appears to be valid at level=max.\u001b[0m\r\n",
      "\u001b[0m"
     ]
    },
    {
     "name": "stdout",
     "output_type": "stream",
     "text": [
      "\u001b[32mImported ../output/S01_host_ER_BM_microbe_random_1000_coral_tree_x100/shared_data/S01_0015_FEATURE.json as BIOMV100Format to ../output/S01_host_ER_BM_microbe_random_1000_coral_tree_x100/shared_data/S01_0015_FEATURE.qza\u001b[0m\r\n",
      "\u001b[0m\u001b[32mImported ../output/S01_host_ER_BM_microbe_random_1000_coral_tree_x100/shared_data/S01_0015_FEATURE.json as BIOMV100Format to ../output/S01_host_ER_BM_microbe_random_1000_coral_tree_x100/shared_data/S01_0015_FEATURE.qza\u001b[0m\r\n",
      "\u001b[0m"
     ]
    },
    {
     "name": "stdout",
     "output_type": "stream",
     "text": [
      "\u001b[32mResult ../output/S01_host_ER_BM_microbe_random_1000_coral_tree_x100/shared_data/S01_0015_FEATURE.qza appears to be valid at level=max.\u001b[0m\r\n",
      "\u001b[0m\u001b[32mResult ../output/S01_host_ER_BM_microbe_random_1000_coral_tree_x100/shared_data/S01_0015_FEATURE.qza appears to be valid at level=max.\u001b[0m\r\n",
      "\u001b[0m"
     ]
    },
    {
     "name": "stdout",
     "output_type": "stream",
     "text": [
      "\u001b[32mImported ../output/S01_host_ER_BM_microbe_random_1000_coral_tree_x100/shared_data/S01_0016_FEATURE.json as BIOMV100Format to ../output/S01_host_ER_BM_microbe_random_1000_coral_tree_x100/shared_data/S01_0016_FEATURE.qza\u001b[0m\r\n",
      "\u001b[0m\u001b[32mImported ../output/S01_host_ER_BM_microbe_random_1000_coral_tree_x100/shared_data/S01_0016_FEATURE.json as BIOMV100Format to ../output/S01_host_ER_BM_microbe_random_1000_coral_tree_x100/shared_data/S01_0016_FEATURE.qza\u001b[0m\r\n",
      "\u001b[0m"
     ]
    },
    {
     "name": "stdout",
     "output_type": "stream",
     "text": [
      "\u001b[32mResult ../output/S01_host_ER_BM_microbe_random_1000_coral_tree_x100/shared_data/S01_0016_FEATURE.qza appears to be valid at level=max.\u001b[0m\r\n",
      "\u001b[0m\u001b[32mResult ../output/S01_host_ER_BM_microbe_random_1000_coral_tree_x100/shared_data/S01_0016_FEATURE.qza appears to be valid at level=max.\u001b[0m\r\n",
      "\u001b[0m"
     ]
    },
    {
     "name": "stdout",
     "output_type": "stream",
     "text": [
      "\u001b[32mImported ../output/S01_host_ER_BM_microbe_random_1000_coral_tree_x100/shared_data/S01_0017_FEATURE.json as BIOMV100Format to ../output/S01_host_ER_BM_microbe_random_1000_coral_tree_x100/shared_data/S01_0017_FEATURE.qza\u001b[0m\r\n",
      "\u001b[0m\u001b[32mImported ../output/S01_host_ER_BM_microbe_random_1000_coral_tree_x100/shared_data/S01_0017_FEATURE.json as BIOMV100Format to ../output/S01_host_ER_BM_microbe_random_1000_coral_tree_x100/shared_data/S01_0017_FEATURE.qza\u001b[0m\r\n",
      "\u001b[0m"
     ]
    },
    {
     "name": "stdout",
     "output_type": "stream",
     "text": [
      "\u001b[32mResult ../output/S01_host_ER_BM_microbe_random_1000_coral_tree_x100/shared_data/S01_0017_FEATURE.qza appears to be valid at level=max.\u001b[0m\r\n",
      "\u001b[32mResult ../output/S01_host_ER_BM_microbe_random_1000_coral_tree_x100/shared_data/S01_0017_FEATURE.qza appears to be valid at level=max.\u001b[0m\r\n"
     ]
    },
    {
     "name": "stdout",
     "output_type": "stream",
     "text": [
      "\u001b[0m\u001b[0m"
     ]
    },
    {
     "name": "stdout",
     "output_type": "stream",
     "text": [
      "\u001b[32mImported ../output/S01_host_ER_BM_microbe_random_1000_coral_tree_x100/shared_data/S01_0018_FEATURE.json as BIOMV100Format to ../output/S01_host_ER_BM_microbe_random_1000_coral_tree_x100/shared_data/S01_0018_FEATURE.qza\u001b[0m\r\n",
      "\u001b[0m\u001b[32mImported ../output/S01_host_ER_BM_microbe_random_1000_coral_tree_x100/shared_data/S01_0018_FEATURE.json as BIOMV100Format to ../output/S01_host_ER_BM_microbe_random_1000_coral_tree_x100/shared_data/S01_0018_FEATURE.qza\u001b[0m\r\n",
      "\u001b[0m"
     ]
    },
    {
     "name": "stdout",
     "output_type": "stream",
     "text": [
      "\u001b[32mResult ../output/S01_host_ER_BM_microbe_random_1000_coral_tree_x100/shared_data/S01_0018_FEATURE.qza appears to be valid at level=max.\u001b[0m\r\n",
      "\u001b[0m\u001b[32mResult ../output/S01_host_ER_BM_microbe_random_1000_coral_tree_x100/shared_data/S01_0018_FEATURE.qza appears to be valid at level=max.\u001b[0m\r\n",
      "\u001b[0m"
     ]
    },
    {
     "name": "stdout",
     "output_type": "stream",
     "text": [
      "\u001b[32mImported ../output/S01_host_ER_BM_microbe_random_1000_coral_tree_x100/shared_data/S01_0019_FEATURE.json as BIOMV100Format to ../output/S01_host_ER_BM_microbe_random_1000_coral_tree_x100/shared_data/S01_0019_FEATURE.qza\u001b[0m\r\n",
      "\u001b[0m\u001b[32mImported ../output/S01_host_ER_BM_microbe_random_1000_coral_tree_x100/shared_data/S01_0019_FEATURE.json as BIOMV100Format to ../output/S01_host_ER_BM_microbe_random_1000_coral_tree_x100/shared_data/S01_0019_FEATURE.qza\u001b[0m\r\n",
      "\u001b[0m"
     ]
    },
    {
     "name": "stdout",
     "output_type": "stream",
     "text": [
      "\u001b[32mResult ../output/S01_host_ER_BM_microbe_random_1000_coral_tree_x100/shared_data/S01_0019_FEATURE.qza appears to be valid at level=max.\u001b[0m\r\n",
      "\u001b[0m\u001b[32mResult ../output/S01_host_ER_BM_microbe_random_1000_coral_tree_x100/shared_data/S01_0019_FEATURE.qza appears to be valid at level=max.\u001b[0m\r\n",
      "\u001b[0m"
     ]
    },
    {
     "name": "stdout",
     "output_type": "stream",
     "text": [
      "\u001b[32mImported ../output/S01_host_ER_BM_microbe_random_1000_coral_tree_x100/shared_data/S01_0020_FEATURE.json as BIOMV100Format to ../output/S01_host_ER_BM_microbe_random_1000_coral_tree_x100/shared_data/S01_0020_FEATURE.qza\u001b[0m\r\n",
      "\u001b[0m\u001b[32mImported ../output/S01_host_ER_BM_microbe_random_1000_coral_tree_x100/shared_data/S01_0020_FEATURE.json as BIOMV100Format to ../output/S01_host_ER_BM_microbe_random_1000_coral_tree_x100/shared_data/S01_0020_FEATURE.qza\u001b[0m\r\n",
      "\u001b[0m"
     ]
    },
    {
     "name": "stdout",
     "output_type": "stream",
     "text": [
      "\u001b[32mResult ../output/S01_host_ER_BM_microbe_random_1000_coral_tree_x100/shared_data/S01_0020_FEATURE.qza appears to be valid at level=max.\u001b[0m\r\n",
      "\u001b[32mResult ../output/S01_host_ER_BM_microbe_random_1000_coral_tree_x100/shared_data/S01_0020_FEATURE.qza appears to be valid at level=max.\u001b[0m\r\n"
     ]
    },
    {
     "name": "stdout",
     "output_type": "stream",
     "text": [
      "\u001b[0m\u001b[0m"
     ]
    },
    {
     "name": "stdout",
     "output_type": "stream",
     "text": [
      "\u001b[32mImported ../output/S01_host_ER_BM_microbe_random_1000_coral_tree_x100/shared_data/S01_0021_FEATURE.json as BIOMV100Format to ../output/S01_host_ER_BM_microbe_random_1000_coral_tree_x100/shared_data/S01_0021_FEATURE.qza\u001b[0m\r\n",
      "\u001b[32mImported ../output/S01_host_ER_BM_microbe_random_1000_coral_tree_x100/shared_data/S01_0021_FEATURE.json as BIOMV100Format to ../output/S01_host_ER_BM_microbe_random_1000_coral_tree_x100/shared_data/S01_0021_FEATURE.qza\u001b[0m\r\n"
     ]
    },
    {
     "name": "stdout",
     "output_type": "stream",
     "text": [
      "\u001b[0m\u001b[0m"
     ]
    },
    {
     "name": "stdout",
     "output_type": "stream",
     "text": [
      "\u001b[32mResult ../output/S01_host_ER_BM_microbe_random_1000_coral_tree_x100/shared_data/S01_0021_FEATURE.qza appears to be valid at level=max.\u001b[0m\r\n",
      "\u001b[32mResult ../output/S01_host_ER_BM_microbe_random_1000_coral_tree_x100/shared_data/S01_0021_FEATURE.qza appears to be valid at level=max.\u001b[0m\r\n"
     ]
    },
    {
     "name": "stdout",
     "output_type": "stream",
     "text": [
      "\u001b[0m\u001b[0m"
     ]
    },
    {
     "name": "stdout",
     "output_type": "stream",
     "text": [
      "\u001b[32mImported ../output/S01_host_ER_BM_microbe_random_1000_coral_tree_x100/shared_data/S01_0022_FEATURE.json as BIOMV100Format to ../output/S01_host_ER_BM_microbe_random_1000_coral_tree_x100/shared_data/S01_0022_FEATURE.qza\u001b[0m\r\n",
      "\u001b[0m\u001b[32mImported ../output/S01_host_ER_BM_microbe_random_1000_coral_tree_x100/shared_data/S01_0022_FEATURE.json as BIOMV100Format to ../output/S01_host_ER_BM_microbe_random_1000_coral_tree_x100/shared_data/S01_0022_FEATURE.qza\u001b[0m\r\n",
      "\u001b[0m"
     ]
    },
    {
     "name": "stdout",
     "output_type": "stream",
     "text": [
      "\u001b[32mResult ../output/S01_host_ER_BM_microbe_random_1000_coral_tree_x100/shared_data/S01_0022_FEATURE.qza appears to be valid at level=max.\u001b[0m\r\n",
      "\u001b[0m\u001b[32mResult ../output/S01_host_ER_BM_microbe_random_1000_coral_tree_x100/shared_data/S01_0022_FEATURE.qza appears to be valid at level=max.\u001b[0m\r\n",
      "\u001b[0m"
     ]
    },
    {
     "name": "stdout",
     "output_type": "stream",
     "text": [
      "\u001b[32mImported ../output/S01_host_ER_BM_microbe_random_1000_coral_tree_x100/shared_data/S01_0023_FEATURE.json as BIOMV100Format to ../output/S01_host_ER_BM_microbe_random_1000_coral_tree_x100/shared_data/S01_0023_FEATURE.qza\u001b[0m\r\n",
      "\u001b[0m\u001b[32mImported ../output/S01_host_ER_BM_microbe_random_1000_coral_tree_x100/shared_data/S01_0023_FEATURE.json as BIOMV100Format to ../output/S01_host_ER_BM_microbe_random_1000_coral_tree_x100/shared_data/S01_0023_FEATURE.qza\u001b[0m\r\n",
      "\u001b[0m"
     ]
    },
    {
     "name": "stdout",
     "output_type": "stream",
     "text": [
      "\u001b[32mResult ../output/S01_host_ER_BM_microbe_random_1000_coral_tree_x100/shared_data/S01_0023_FEATURE.qza appears to be valid at level=max.\u001b[0m\r\n",
      "\u001b[0m\u001b[32mResult ../output/S01_host_ER_BM_microbe_random_1000_coral_tree_x100/shared_data/S01_0023_FEATURE.qza appears to be valid at level=max.\u001b[0m\r\n",
      "\u001b[0m"
     ]
    },
    {
     "name": "stdout",
     "output_type": "stream",
     "text": [
      "\u001b[32mImported ../output/S01_host_ER_BM_microbe_random_1000_coral_tree_x100/shared_data/S01_0024_FEATURE.json as BIOMV100Format to ../output/S01_host_ER_BM_microbe_random_1000_coral_tree_x100/shared_data/S01_0024_FEATURE.qza\u001b[0m\r\n",
      "\u001b[32mImported ../output/S01_host_ER_BM_microbe_random_1000_coral_tree_x100/shared_data/S01_0024_FEATURE.json as BIOMV100Format to ../output/S01_host_ER_BM_microbe_random_1000_coral_tree_x100/shared_data/S01_0024_FEATURE.qza\u001b[0m\r\n"
     ]
    },
    {
     "name": "stdout",
     "output_type": "stream",
     "text": [
      "\u001b[0m\u001b[0m"
     ]
    },
    {
     "name": "stdout",
     "output_type": "stream",
     "text": [
      "\u001b[32mResult ../output/S01_host_ER_BM_microbe_random_1000_coral_tree_x100/shared_data/S01_0024_FEATURE.qza appears to be valid at level=max.\u001b[0m\r\n",
      "\u001b[0m\u001b[32mResult ../output/S01_host_ER_BM_microbe_random_1000_coral_tree_x100/shared_data/S01_0024_FEATURE.qza appears to be valid at level=max.\u001b[0m\r\n",
      "\u001b[0m"
     ]
    },
    {
     "name": "stdout",
     "output_type": "stream",
     "text": [
      "\u001b[32mImported ../output/S01_host_ER_BM_microbe_random_1000_coral_tree_x100/shared_data/S01_0025_FEATURE.json as BIOMV100Format to ../output/S01_host_ER_BM_microbe_random_1000_coral_tree_x100/shared_data/S01_0025_FEATURE.qza\u001b[0m\r\n",
      "\u001b[32mImported ../output/S01_host_ER_BM_microbe_random_1000_coral_tree_x100/shared_data/S01_0025_FEATURE.json as BIOMV100Format to ../output/S01_host_ER_BM_microbe_random_1000_coral_tree_x100/shared_data/S01_0025_FEATURE.qza\u001b[0m\r\n"
     ]
    },
    {
     "name": "stdout",
     "output_type": "stream",
     "text": [
      "\u001b[0m\u001b[0m"
     ]
    },
    {
     "name": "stdout",
     "output_type": "stream",
     "text": [
      "\u001b[32mResult ../output/S01_host_ER_BM_microbe_random_1000_coral_tree_x100/shared_data/S01_0025_FEATURE.qza appears to be valid at level=max.\u001b[0m\r\n",
      "\u001b[0m\u001b[32mResult ../output/S01_host_ER_BM_microbe_random_1000_coral_tree_x100/shared_data/S01_0025_FEATURE.qza appears to be valid at level=max.\u001b[0m\r\n",
      "\u001b[0m"
     ]
    },
    {
     "name": "stdout",
     "output_type": "stream",
     "text": [
      "\u001b[32mImported ../output/S01_host_ER_BM_microbe_random_1000_coral_tree_x100/shared_data/S01_0026_FEATURE.json as BIOMV100Format to ../output/S01_host_ER_BM_microbe_random_1000_coral_tree_x100/shared_data/S01_0026_FEATURE.qza\u001b[0m\r\n",
      "\u001b[0m\u001b[32mImported ../output/S01_host_ER_BM_microbe_random_1000_coral_tree_x100/shared_data/S01_0026_FEATURE.json as BIOMV100Format to ../output/S01_host_ER_BM_microbe_random_1000_coral_tree_x100/shared_data/S01_0026_FEATURE.qza\u001b[0m\r\n",
      "\u001b[0m"
     ]
    },
    {
     "name": "stdout",
     "output_type": "stream",
     "text": [
      "\u001b[32mResult ../output/S01_host_ER_BM_microbe_random_1000_coral_tree_x100/shared_data/S01_0026_FEATURE.qza appears to be valid at level=max.\u001b[0m\r\n",
      "\u001b[0m\u001b[32mResult ../output/S01_host_ER_BM_microbe_random_1000_coral_tree_x100/shared_data/S01_0026_FEATURE.qza appears to be valid at level=max.\u001b[0m\r\n",
      "\u001b[0m"
     ]
    },
    {
     "name": "stdout",
     "output_type": "stream",
     "text": [
      "\u001b[32mImported ../output/S01_host_ER_BM_microbe_random_1000_coral_tree_x100/shared_data/S01_0027_FEATURE.json as BIOMV100Format to ../output/S01_host_ER_BM_microbe_random_1000_coral_tree_x100/shared_data/S01_0027_FEATURE.qza\u001b[0m\r\n",
      "\u001b[0m\u001b[32mImported ../output/S01_host_ER_BM_microbe_random_1000_coral_tree_x100/shared_data/S01_0027_FEATURE.json as BIOMV100Format to ../output/S01_host_ER_BM_microbe_random_1000_coral_tree_x100/shared_data/S01_0027_FEATURE.qza\u001b[0m\r\n",
      "\u001b[0m"
     ]
    },
    {
     "name": "stdout",
     "output_type": "stream",
     "text": [
      "\u001b[32mResult ../output/S01_host_ER_BM_microbe_random_1000_coral_tree_x100/shared_data/S01_0027_FEATURE.qza appears to be valid at level=max.\u001b[0m\r\n",
      "\u001b[0m\u001b[32mResult ../output/S01_host_ER_BM_microbe_random_1000_coral_tree_x100/shared_data/S01_0027_FEATURE.qza appears to be valid at level=max.\u001b[0m\r\n",
      "\u001b[0m"
     ]
    },
    {
     "name": "stdout",
     "output_type": "stream",
     "text": [
      "\u001b[32mImported ../output/S01_host_ER_BM_microbe_random_1000_coral_tree_x100/shared_data/S01_0028_FEATURE.json as BIOMV100Format to ../output/S01_host_ER_BM_microbe_random_1000_coral_tree_x100/shared_data/S01_0028_FEATURE.qza\u001b[0m\r\n",
      "\u001b[32mImported ../output/S01_host_ER_BM_microbe_random_1000_coral_tree_x100/shared_data/S01_0028_FEATURE.json as BIOMV100Format to ../output/S01_host_ER_BM_microbe_random_1000_coral_tree_x100/shared_data/S01_0028_FEATURE.qza\u001b[0m\r\n"
     ]
    },
    {
     "name": "stdout",
     "output_type": "stream",
     "text": [
      "\u001b[0m\u001b[0m"
     ]
    },
    {
     "name": "stdout",
     "output_type": "stream",
     "text": [
      "\u001b[32mResult ../output/S01_host_ER_BM_microbe_random_1000_coral_tree_x100/shared_data/S01_0028_FEATURE.qza appears to be valid at level=max.\u001b[0m\r\n",
      "\u001b[0m\u001b[32mResult ../output/S01_host_ER_BM_microbe_random_1000_coral_tree_x100/shared_data/S01_0028_FEATURE.qza appears to be valid at level=max.\u001b[0m\r\n",
      "\u001b[0m"
     ]
    },
    {
     "name": "stdout",
     "output_type": "stream",
     "text": [
      "\u001b[32mImported ../output/S01_host_ER_BM_microbe_random_1000_coral_tree_x100/shared_data/S01_0029_FEATURE.json as BIOMV100Format to ../output/S01_host_ER_BM_microbe_random_1000_coral_tree_x100/shared_data/S01_0029_FEATURE.qza\u001b[0m\r\n",
      "\u001b[0m\u001b[32mImported ../output/S01_host_ER_BM_microbe_random_1000_coral_tree_x100/shared_data/S01_0029_FEATURE.json as BIOMV100Format to ../output/S01_host_ER_BM_microbe_random_1000_coral_tree_x100/shared_data/S01_0029_FEATURE.qza\u001b[0m\r\n",
      "\u001b[0m"
     ]
    },
    {
     "name": "stdout",
     "output_type": "stream",
     "text": [
      "\u001b[32mResult ../output/S01_host_ER_BM_microbe_random_1000_coral_tree_x100/shared_data/S01_0029_FEATURE.qza appears to be valid at level=max.\u001b[0m\r\n",
      "\u001b[0m\u001b[32mResult ../output/S01_host_ER_BM_microbe_random_1000_coral_tree_x100/shared_data/S01_0029_FEATURE.qza appears to be valid at level=max.\u001b[0m\r\n",
      "\u001b[0m"
     ]
    },
    {
     "name": "stdout",
     "output_type": "stream",
     "text": [
      "\u001b[32mImported ../output/S01_host_ER_BM_microbe_random_1000_coral_tree_x100/shared_data/S01_0030_FEATURE.json as BIOMV100Format to ../output/S01_host_ER_BM_microbe_random_1000_coral_tree_x100/shared_data/S01_0030_FEATURE.qza\u001b[0m\r\n",
      "\u001b[0m\u001b[32mImported ../output/S01_host_ER_BM_microbe_random_1000_coral_tree_x100/shared_data/S01_0030_FEATURE.json as BIOMV100Format to ../output/S01_host_ER_BM_microbe_random_1000_coral_tree_x100/shared_data/S01_0030_FEATURE.qza\u001b[0m\r\n",
      "\u001b[0m"
     ]
    },
    {
     "name": "stdout",
     "output_type": "stream",
     "text": [
      "\u001b[32mResult ../output/S01_host_ER_BM_microbe_random_1000_coral_tree_x100/shared_data/S01_0030_FEATURE.qza appears to be valid at level=max.\u001b[0m\r\n",
      "\u001b[0m\u001b[32mResult ../output/S01_host_ER_BM_microbe_random_1000_coral_tree_x100/shared_data/S01_0030_FEATURE.qza appears to be valid at level=max.\u001b[0m\r\n",
      "\u001b[0m"
     ]
    },
    {
     "name": "stdout",
     "output_type": "stream",
     "text": [
      "\u001b[32mImported ../output/S01_host_ER_BM_microbe_random_1000_coral_tree_x100/shared_data/S01_0031_FEATURE.json as BIOMV100Format to ../output/S01_host_ER_BM_microbe_random_1000_coral_tree_x100/shared_data/S01_0031_FEATURE.qza\u001b[0m\r\n",
      "\u001b[32mImported ../output/S01_host_ER_BM_microbe_random_1000_coral_tree_x100/shared_data/S01_0031_FEATURE.json as BIOMV100Format to ../output/S01_host_ER_BM_microbe_random_1000_coral_tree_x100/shared_data/S01_0031_FEATURE.qza\u001b[0m\r\n"
     ]
    },
    {
     "name": "stdout",
     "output_type": "stream",
     "text": [
      "\u001b[0m\u001b[0m"
     ]
    },
    {
     "name": "stdout",
     "output_type": "stream",
     "text": [
      "\u001b[32mResult ../output/S01_host_ER_BM_microbe_random_1000_coral_tree_x100/shared_data/S01_0031_FEATURE.qza appears to be valid at level=max.\u001b[0m\r\n",
      "\u001b[32mResult ../output/S01_host_ER_BM_microbe_random_1000_coral_tree_x100/shared_data/S01_0031_FEATURE.qza appears to be valid at level=max.\u001b[0m\r\n"
     ]
    },
    {
     "name": "stdout",
     "output_type": "stream",
     "text": [
      "\u001b[0m\u001b[0m"
     ]
    },
    {
     "name": "stdout",
     "output_type": "stream",
     "text": [
      "\u001b[32mImported ../output/S01_host_ER_BM_microbe_random_1000_coral_tree_x100/shared_data/S01_0032_FEATURE.json as BIOMV100Format to ../output/S01_host_ER_BM_microbe_random_1000_coral_tree_x100/shared_data/S01_0032_FEATURE.qza\u001b[0m\r\n",
      "\u001b[0m\u001b[32mImported ../output/S01_host_ER_BM_microbe_random_1000_coral_tree_x100/shared_data/S01_0032_FEATURE.json as BIOMV100Format to ../output/S01_host_ER_BM_microbe_random_1000_coral_tree_x100/shared_data/S01_0032_FEATURE.qza\u001b[0m\r\n",
      "\u001b[0m"
     ]
    },
    {
     "name": "stdout",
     "output_type": "stream",
     "text": [
      "\u001b[32mResult ../output/S01_host_ER_BM_microbe_random_1000_coral_tree_x100/shared_data/S01_0032_FEATURE.qza appears to be valid at level=max.\u001b[0m\r\n",
      "\u001b[0m\u001b[32mResult ../output/S01_host_ER_BM_microbe_random_1000_coral_tree_x100/shared_data/S01_0032_FEATURE.qza appears to be valid at level=max.\u001b[0m\r\n",
      "\u001b[0m"
     ]
    },
    {
     "name": "stdout",
     "output_type": "stream",
     "text": [
      "\u001b[32mImported ../output/S01_host_ER_BM_microbe_random_1000_coral_tree_x100/shared_data/S01_0033_FEATURE.json as BIOMV100Format to ../output/S01_host_ER_BM_microbe_random_1000_coral_tree_x100/shared_data/S01_0033_FEATURE.qza\u001b[0m\r\n",
      "\u001b[0m\u001b[32mImported ../output/S01_host_ER_BM_microbe_random_1000_coral_tree_x100/shared_data/S01_0033_FEATURE.json as BIOMV100Format to ../output/S01_host_ER_BM_microbe_random_1000_coral_tree_x100/shared_data/S01_0033_FEATURE.qza\u001b[0m\r\n",
      "\u001b[0m"
     ]
    },
    {
     "name": "stdout",
     "output_type": "stream",
     "text": [
      "\u001b[32mResult ../output/S01_host_ER_BM_microbe_random_1000_coral_tree_x100/shared_data/S01_0033_FEATURE.qza appears to be valid at level=max.\u001b[0m\r\n",
      "\u001b[0m\u001b[32mResult ../output/S01_host_ER_BM_microbe_random_1000_coral_tree_x100/shared_data/S01_0033_FEATURE.qza appears to be valid at level=max.\u001b[0m\r\n",
      "\u001b[0m"
     ]
    },
    {
     "name": "stdout",
     "output_type": "stream",
     "text": [
      "\u001b[32mImported ../output/S01_host_ER_BM_microbe_random_1000_coral_tree_x100/shared_data/S01_0034_FEATURE.json as BIOMV100Format to ../output/S01_host_ER_BM_microbe_random_1000_coral_tree_x100/shared_data/S01_0034_FEATURE.qza\u001b[0m\r\n",
      "\u001b[0m\u001b[32mImported ../output/S01_host_ER_BM_microbe_random_1000_coral_tree_x100/shared_data/S01_0034_FEATURE.json as BIOMV100Format to ../output/S01_host_ER_BM_microbe_random_1000_coral_tree_x100/shared_data/S01_0034_FEATURE.qza\u001b[0m\r\n",
      "\u001b[0m"
     ]
    },
    {
     "name": "stdout",
     "output_type": "stream",
     "text": [
      "\u001b[32mResult ../output/S01_host_ER_BM_microbe_random_1000_coral_tree_x100/shared_data/S01_0034_FEATURE.qza appears to be valid at level=max.\u001b[0m\r\n",
      "\u001b[0m\u001b[32mResult ../output/S01_host_ER_BM_microbe_random_1000_coral_tree_x100/shared_data/S01_0034_FEATURE.qza appears to be valid at level=max.\u001b[0m\r\n",
      "\u001b[0m"
     ]
    },
    {
     "name": "stdout",
     "output_type": "stream",
     "text": [
      "\u001b[32mImported ../output/S01_host_ER_BM_microbe_random_1000_coral_tree_x100/shared_data/S01_0035_FEATURE.json as BIOMV100Format to ../output/S01_host_ER_BM_microbe_random_1000_coral_tree_x100/shared_data/S01_0035_FEATURE.qza\u001b[0m\r\n",
      "\u001b[0m\u001b[32mImported ../output/S01_host_ER_BM_microbe_random_1000_coral_tree_x100/shared_data/S01_0035_FEATURE.json as BIOMV100Format to ../output/S01_host_ER_BM_microbe_random_1000_coral_tree_x100/shared_data/S01_0035_FEATURE.qza\u001b[0m\r\n",
      "\u001b[0m"
     ]
    },
    {
     "name": "stdout",
     "output_type": "stream",
     "text": [
      "\u001b[32mResult ../output/S01_host_ER_BM_microbe_random_1000_coral_tree_x100/shared_data/S01_0035_FEATURE.qza appears to be valid at level=max.\u001b[0m\r\n",
      "\u001b[0m\u001b[32mResult ../output/S01_host_ER_BM_microbe_random_1000_coral_tree_x100/shared_data/S01_0035_FEATURE.qza appears to be valid at level=max.\u001b[0m\r\n",
      "\u001b[0m"
     ]
    },
    {
     "name": "stdout",
     "output_type": "stream",
     "text": [
      "\u001b[32mImported ../output/S01_host_ER_BM_microbe_random_1000_coral_tree_x100/shared_data/S01_0036_FEATURE.json as BIOMV100Format to ../output/S01_host_ER_BM_microbe_random_1000_coral_tree_x100/shared_data/S01_0036_FEATURE.qza\u001b[0m\r\n",
      "\u001b[0m\u001b[32mImported ../output/S01_host_ER_BM_microbe_random_1000_coral_tree_x100/shared_data/S01_0036_FEATURE.json as BIOMV100Format to ../output/S01_host_ER_BM_microbe_random_1000_coral_tree_x100/shared_data/S01_0036_FEATURE.qza\u001b[0m\r\n",
      "\u001b[0m"
     ]
    },
    {
     "name": "stdout",
     "output_type": "stream",
     "text": [
      "\u001b[32mResult ../output/S01_host_ER_BM_microbe_random_1000_coral_tree_x100/shared_data/S01_0036_FEATURE.qza appears to be valid at level=max.\u001b[0m\r\n",
      "\u001b[0m\u001b[32mResult ../output/S01_host_ER_BM_microbe_random_1000_coral_tree_x100/shared_data/S01_0036_FEATURE.qza appears to be valid at level=max.\u001b[0m\r\n",
      "\u001b[0m"
     ]
    },
    {
     "name": "stdout",
     "output_type": "stream",
     "text": [
      "\u001b[32mImported ../output/S01_host_ER_BM_microbe_random_1000_coral_tree_x100/shared_data/S01_0037_FEATURE.json as BIOMV100Format to ../output/S01_host_ER_BM_microbe_random_1000_coral_tree_x100/shared_data/S01_0037_FEATURE.qza\u001b[0m\r\n",
      "\u001b[0m\u001b[32mImported ../output/S01_host_ER_BM_microbe_random_1000_coral_tree_x100/shared_data/S01_0037_FEATURE.json as BIOMV100Format to ../output/S01_host_ER_BM_microbe_random_1000_coral_tree_x100/shared_data/S01_0037_FEATURE.qza\u001b[0m\r\n",
      "\u001b[0m"
     ]
    },
    {
     "name": "stdout",
     "output_type": "stream",
     "text": [
      "\u001b[32mResult ../output/S01_host_ER_BM_microbe_random_1000_coral_tree_x100/shared_data/S01_0037_FEATURE.qza appears to be valid at level=max.\u001b[0m\r\n",
      "\u001b[0m\u001b[32mResult ../output/S01_host_ER_BM_microbe_random_1000_coral_tree_x100/shared_data/S01_0037_FEATURE.qza appears to be valid at level=max.\u001b[0m\r\n",
      "\u001b[0m"
     ]
    },
    {
     "name": "stdout",
     "output_type": "stream",
     "text": [
      "\u001b[32mImported ../output/S01_host_ER_BM_microbe_random_1000_coral_tree_x100/shared_data/S01_0038_FEATURE.json as BIOMV100Format to ../output/S01_host_ER_BM_microbe_random_1000_coral_tree_x100/shared_data/S01_0038_FEATURE.qza\u001b[0m\r\n",
      "\u001b[32mImported ../output/S01_host_ER_BM_microbe_random_1000_coral_tree_x100/shared_data/S01_0038_FEATURE.json as BIOMV100Format to ../output/S01_host_ER_BM_microbe_random_1000_coral_tree_x100/shared_data/S01_0038_FEATURE.qza\u001b[0m\r\n"
     ]
    },
    {
     "name": "stdout",
     "output_type": "stream",
     "text": [
      "\u001b[0m\u001b[0m"
     ]
    },
    {
     "name": "stdout",
     "output_type": "stream",
     "text": [
      "\u001b[32mResult ../output/S01_host_ER_BM_microbe_random_1000_coral_tree_x100/shared_data/S01_0038_FEATURE.qza appears to be valid at level=max.\u001b[0m\r\n",
      "\u001b[0m\u001b[32mResult ../output/S01_host_ER_BM_microbe_random_1000_coral_tree_x100/shared_data/S01_0038_FEATURE.qza appears to be valid at level=max.\u001b[0m\r\n",
      "\u001b[0m"
     ]
    },
    {
     "name": "stdout",
     "output_type": "stream",
     "text": [
      "\u001b[32mImported ../output/S01_host_ER_BM_microbe_random_1000_coral_tree_x100/shared_data/S01_0039_FEATURE.json as BIOMV100Format to ../output/S01_host_ER_BM_microbe_random_1000_coral_tree_x100/shared_data/S01_0039_FEATURE.qza\u001b[0m\r\n",
      "\u001b[0m\u001b[32mImported ../output/S01_host_ER_BM_microbe_random_1000_coral_tree_x100/shared_data/S01_0039_FEATURE.json as BIOMV100Format to ../output/S01_host_ER_BM_microbe_random_1000_coral_tree_x100/shared_data/S01_0039_FEATURE.qza\u001b[0m\r\n",
      "\u001b[0m"
     ]
    },
    {
     "name": "stdout",
     "output_type": "stream",
     "text": [
      "\u001b[32mResult ../output/S01_host_ER_BM_microbe_random_1000_coral_tree_x100/shared_data/S01_0039_FEATURE.qza appears to be valid at level=max.\u001b[0m\r\n",
      "\u001b[0m\u001b[32mResult ../output/S01_host_ER_BM_microbe_random_1000_coral_tree_x100/shared_data/S01_0039_FEATURE.qza appears to be valid at level=max.\u001b[0m\r\n",
      "\u001b[0m"
     ]
    },
    {
     "name": "stdout",
     "output_type": "stream",
     "text": [
      "\u001b[32mImported ../output/S01_host_ER_BM_microbe_random_1000_coral_tree_x100/shared_data/S01_0040_FEATURE.json as BIOMV100Format to ../output/S01_host_ER_BM_microbe_random_1000_coral_tree_x100/shared_data/S01_0040_FEATURE.qza\u001b[0m\r\n",
      "\u001b[0m\u001b[32mImported ../output/S01_host_ER_BM_microbe_random_1000_coral_tree_x100/shared_data/S01_0040_FEATURE.json as BIOMV100Format to ../output/S01_host_ER_BM_microbe_random_1000_coral_tree_x100/shared_data/S01_0040_FEATURE.qza\u001b[0m\r\n",
      "\u001b[0m"
     ]
    },
    {
     "name": "stdout",
     "output_type": "stream",
     "text": [
      "\u001b[32mResult ../output/S01_host_ER_BM_microbe_random_1000_coral_tree_x100/shared_data/S01_0040_FEATURE.qza appears to be valid at level=max.\u001b[0m\r\n",
      "\u001b[0m\u001b[32mResult ../output/S01_host_ER_BM_microbe_random_1000_coral_tree_x100/shared_data/S01_0040_FEATURE.qza appears to be valid at level=max.\u001b[0m\r\n",
      "\u001b[0m"
     ]
    },
    {
     "name": "stdout",
     "output_type": "stream",
     "text": [
      "\u001b[32mImported ../output/S01_host_ER_BM_microbe_random_1000_coral_tree_x100/shared_data/S01_0041_FEATURE.json as BIOMV100Format to ../output/S01_host_ER_BM_microbe_random_1000_coral_tree_x100/shared_data/S01_0041_FEATURE.qza\u001b[0m\r\n",
      "\u001b[0m\u001b[32mImported ../output/S01_host_ER_BM_microbe_random_1000_coral_tree_x100/shared_data/S01_0041_FEATURE.json as BIOMV100Format to ../output/S01_host_ER_BM_microbe_random_1000_coral_tree_x100/shared_data/S01_0041_FEATURE.qza\u001b[0m\r\n",
      "\u001b[0m"
     ]
    },
    {
     "name": "stdout",
     "output_type": "stream",
     "text": [
      "\u001b[32mResult ../output/S01_host_ER_BM_microbe_random_1000_coral_tree_x100/shared_data/S01_0041_FEATURE.qza appears to be valid at level=max.\u001b[0m\r\n",
      "\u001b[32mResult ../output/S01_host_ER_BM_microbe_random_1000_coral_tree_x100/shared_data/S01_0041_FEATURE.qza appears to be valid at level=max.\u001b[0m\r\n"
     ]
    },
    {
     "name": "stdout",
     "output_type": "stream",
     "text": [
      "\u001b[0m\u001b[0m"
     ]
    },
    {
     "name": "stdout",
     "output_type": "stream",
     "text": [
      "\u001b[32mImported ../output/S01_host_ER_BM_microbe_random_1000_coral_tree_x100/shared_data/S01_0042_FEATURE.json as BIOMV100Format to ../output/S01_host_ER_BM_microbe_random_1000_coral_tree_x100/shared_data/S01_0042_FEATURE.qza\u001b[0m\r\n",
      "\u001b[32mImported ../output/S01_host_ER_BM_microbe_random_1000_coral_tree_x100/shared_data/S01_0042_FEATURE.json as BIOMV100Format to ../output/S01_host_ER_BM_microbe_random_1000_coral_tree_x100/shared_data/S01_0042_FEATURE.qza\u001b[0m\r\n"
     ]
    },
    {
     "name": "stdout",
     "output_type": "stream",
     "text": [
      "\u001b[0m\u001b[0m"
     ]
    },
    {
     "name": "stdout",
     "output_type": "stream",
     "text": [
      "\u001b[32mResult ../output/S01_host_ER_BM_microbe_random_1000_coral_tree_x100/shared_data/S01_0042_FEATURE.qza appears to be valid at level=max.\u001b[0m\r\n",
      "\u001b[0m\u001b[32mResult ../output/S01_host_ER_BM_microbe_random_1000_coral_tree_x100/shared_data/S01_0042_FEATURE.qza appears to be valid at level=max.\u001b[0m\r\n",
      "\u001b[0m"
     ]
    },
    {
     "name": "stdout",
     "output_type": "stream",
     "text": [
      "\u001b[32mImported ../output/S01_host_ER_BM_microbe_random_1000_coral_tree_x100/shared_data/S01_0043_FEATURE.json as BIOMV100Format to ../output/S01_host_ER_BM_microbe_random_1000_coral_tree_x100/shared_data/S01_0043_FEATURE.qza\u001b[0m\r\n",
      "\u001b[32mImported ../output/S01_host_ER_BM_microbe_random_1000_coral_tree_x100/shared_data/S01_0043_FEATURE.json as BIOMV100Format to ../output/S01_host_ER_BM_microbe_random_1000_coral_tree_x100/shared_data/S01_0043_FEATURE.qza\u001b[0m\r\n"
     ]
    },
    {
     "name": "stdout",
     "output_type": "stream",
     "text": [
      "\u001b[0m\u001b[0m"
     ]
    },
    {
     "name": "stdout",
     "output_type": "stream",
     "text": [
      "\u001b[32mResult ../output/S01_host_ER_BM_microbe_random_1000_coral_tree_x100/shared_data/S01_0043_FEATURE.qza appears to be valid at level=max.\u001b[0m\r\n",
      "\u001b[32mResult ../output/S01_host_ER_BM_microbe_random_1000_coral_tree_x100/shared_data/S01_0043_FEATURE.qza appears to be valid at level=max.\u001b[0m\r\n"
     ]
    },
    {
     "name": "stdout",
     "output_type": "stream",
     "text": [
      "\u001b[0m\u001b[0m"
     ]
    },
    {
     "name": "stdout",
     "output_type": "stream",
     "text": [
      "\u001b[32mImported ../output/S01_host_ER_BM_microbe_random_1000_coral_tree_x100/shared_data/S01_0044_FEATURE.json as BIOMV100Format to ../output/S01_host_ER_BM_microbe_random_1000_coral_tree_x100/shared_data/S01_0044_FEATURE.qza\u001b[0m\r\n",
      "\u001b[32mImported ../output/S01_host_ER_BM_microbe_random_1000_coral_tree_x100/shared_data/S01_0044_FEATURE.json as BIOMV100Format to ../output/S01_host_ER_BM_microbe_random_1000_coral_tree_x100/shared_data/S01_0044_FEATURE.qza\u001b[0m\r\n"
     ]
    },
    {
     "name": "stdout",
     "output_type": "stream",
     "text": [
      "\u001b[0m\u001b[0m"
     ]
    },
    {
     "name": "stdout",
     "output_type": "stream",
     "text": [
      "\u001b[32mResult ../output/S01_host_ER_BM_microbe_random_1000_coral_tree_x100/shared_data/S01_0044_FEATURE.qza appears to be valid at level=max.\u001b[0m\r\n",
      "\u001b[0m\u001b[32mResult ../output/S01_host_ER_BM_microbe_random_1000_coral_tree_x100/shared_data/S01_0044_FEATURE.qza appears to be valid at level=max.\u001b[0m\r\n",
      "\u001b[0m"
     ]
    },
    {
     "name": "stdout",
     "output_type": "stream",
     "text": [
      "\u001b[32mImported ../output/S01_host_ER_BM_microbe_random_1000_coral_tree_x100/shared_data/S01_0045_FEATURE.json as BIOMV100Format to ../output/S01_host_ER_BM_microbe_random_1000_coral_tree_x100/shared_data/S01_0045_FEATURE.qza\u001b[0m\r\n",
      "\u001b[0m\u001b[32mImported ../output/S01_host_ER_BM_microbe_random_1000_coral_tree_x100/shared_data/S01_0045_FEATURE.json as BIOMV100Format to ../output/S01_host_ER_BM_microbe_random_1000_coral_tree_x100/shared_data/S01_0045_FEATURE.qza\u001b[0m\r\n",
      "\u001b[0m"
     ]
    },
    {
     "name": "stdout",
     "output_type": "stream",
     "text": [
      "\u001b[32mResult ../output/S01_host_ER_BM_microbe_random_1000_coral_tree_x100/shared_data/S01_0045_FEATURE.qza appears to be valid at level=max.\u001b[0m\r\n",
      "\u001b[0m\u001b[32mResult ../output/S01_host_ER_BM_microbe_random_1000_coral_tree_x100/shared_data/S01_0045_FEATURE.qza appears to be valid at level=max.\u001b[0m\r\n",
      "\u001b[0m"
     ]
    },
    {
     "name": "stdout",
     "output_type": "stream",
     "text": [
      "\u001b[32mImported ../output/S01_host_ER_BM_microbe_random_1000_coral_tree_x100/shared_data/S01_0046_FEATURE.json as BIOMV100Format to ../output/S01_host_ER_BM_microbe_random_1000_coral_tree_x100/shared_data/S01_0046_FEATURE.qza\u001b[0m\r\n",
      "\u001b[32mImported ../output/S01_host_ER_BM_microbe_random_1000_coral_tree_x100/shared_data/S01_0046_FEATURE.json as BIOMV100Format to ../output/S01_host_ER_BM_microbe_random_1000_coral_tree_x100/shared_data/S01_0046_FEATURE.qza\u001b[0m\r\n"
     ]
    },
    {
     "name": "stdout",
     "output_type": "stream",
     "text": [
      "\u001b[0m\u001b[0m"
     ]
    },
    {
     "name": "stdout",
     "output_type": "stream",
     "text": [
      "\u001b[32mResult ../output/S01_host_ER_BM_microbe_random_1000_coral_tree_x100/shared_data/S01_0046_FEATURE.qza appears to be valid at level=max.\u001b[0m\r\n",
      "\u001b[0m\u001b[32mResult ../output/S01_host_ER_BM_microbe_random_1000_coral_tree_x100/shared_data/S01_0046_FEATURE.qza appears to be valid at level=max.\u001b[0m\r\n",
      "\u001b[0m"
     ]
    },
    {
     "name": "stdout",
     "output_type": "stream",
     "text": [
      "\u001b[32mImported ../output/S01_host_ER_BM_microbe_random_1000_coral_tree_x100/shared_data/S01_0047_FEATURE.json as BIOMV100Format to ../output/S01_host_ER_BM_microbe_random_1000_coral_tree_x100/shared_data/S01_0047_FEATURE.qza\u001b[0m\r\n",
      "\u001b[32mImported ../output/S01_host_ER_BM_microbe_random_1000_coral_tree_x100/shared_data/S01_0047_FEATURE.json as BIOMV100Format to ../output/S01_host_ER_BM_microbe_random_1000_coral_tree_x100/shared_data/S01_0047_FEATURE.qza\u001b[0m\r\n"
     ]
    },
    {
     "name": "stdout",
     "output_type": "stream",
     "text": [
      "\u001b[0m\u001b[0m"
     ]
    },
    {
     "name": "stdout",
     "output_type": "stream",
     "text": [
      "\u001b[32mResult ../output/S01_host_ER_BM_microbe_random_1000_coral_tree_x100/shared_data/S01_0047_FEATURE.qza appears to be valid at level=max.\u001b[0m\r\n",
      "\u001b[0m\u001b[32mResult ../output/S01_host_ER_BM_microbe_random_1000_coral_tree_x100/shared_data/S01_0047_FEATURE.qza appears to be valid at level=max.\u001b[0m\r\n",
      "\u001b[0m"
     ]
    },
    {
     "name": "stdout",
     "output_type": "stream",
     "text": [
      "\u001b[32mImported ../output/S01_host_ER_BM_microbe_random_1000_coral_tree_x100/shared_data/S01_0048_FEATURE.json as BIOMV100Format to ../output/S01_host_ER_BM_microbe_random_1000_coral_tree_x100/shared_data/S01_0048_FEATURE.qza\u001b[0m\r\n",
      "\u001b[32mImported ../output/S01_host_ER_BM_microbe_random_1000_coral_tree_x100/shared_data/S01_0048_FEATURE.json as BIOMV100Format to ../output/S01_host_ER_BM_microbe_random_1000_coral_tree_x100/shared_data/S01_0048_FEATURE.qza\u001b[0m\r\n"
     ]
    },
    {
     "name": "stdout",
     "output_type": "stream",
     "text": [
      "\u001b[0m\u001b[0m"
     ]
    },
    {
     "name": "stdout",
     "output_type": "stream",
     "text": [
      "\u001b[32mResult ../output/S01_host_ER_BM_microbe_random_1000_coral_tree_x100/shared_data/S01_0048_FEATURE.qza appears to be valid at level=max.\u001b[0m\r\n",
      "\u001b[0m\u001b[32mResult ../output/S01_host_ER_BM_microbe_random_1000_coral_tree_x100/shared_data/S01_0048_FEATURE.qza appears to be valid at level=max.\u001b[0m\r\n",
      "\u001b[0m"
     ]
    },
    {
     "name": "stdout",
     "output_type": "stream",
     "text": [
      "\u001b[32mImported ../output/S01_host_ER_BM_microbe_random_1000_coral_tree_x100/shared_data/S01_0049_FEATURE.json as BIOMV100Format to ../output/S01_host_ER_BM_microbe_random_1000_coral_tree_x100/shared_data/S01_0049_FEATURE.qza\u001b[0m\r\n",
      "\u001b[0m\u001b[32mImported ../output/S01_host_ER_BM_microbe_random_1000_coral_tree_x100/shared_data/S01_0049_FEATURE.json as BIOMV100Format to ../output/S01_host_ER_BM_microbe_random_1000_coral_tree_x100/shared_data/S01_0049_FEATURE.qza\u001b[0m\r\n",
      "\u001b[0m"
     ]
    },
    {
     "name": "stdout",
     "output_type": "stream",
     "text": [
      "\u001b[32mResult ../output/S01_host_ER_BM_microbe_random_1000_coral_tree_x100/shared_data/S01_0049_FEATURE.qza appears to be valid at level=max.\u001b[0m\r\n",
      "\u001b[0m\u001b[32mResult ../output/S01_host_ER_BM_microbe_random_1000_coral_tree_x100/shared_data/S01_0049_FEATURE.qza appears to be valid at level=max.\u001b[0m\r\n",
      "\u001b[0m"
     ]
    },
    {
     "name": "stdout",
     "output_type": "stream",
     "text": [
      "\u001b[32mImported ../output/S01_host_ER_BM_microbe_random_1000_coral_tree_x100/shared_data/S01_0050_FEATURE.json as BIOMV100Format to ../output/S01_host_ER_BM_microbe_random_1000_coral_tree_x100/shared_data/S01_0050_FEATURE.qza\u001b[0m\r\n",
      "\u001b[0m\u001b[32mImported ../output/S01_host_ER_BM_microbe_random_1000_coral_tree_x100/shared_data/S01_0050_FEATURE.json as BIOMV100Format to ../output/S01_host_ER_BM_microbe_random_1000_coral_tree_x100/shared_data/S01_0050_FEATURE.qza\u001b[0m\r\n",
      "\u001b[0m"
     ]
    },
    {
     "name": "stdout",
     "output_type": "stream",
     "text": [
      "\u001b[32mResult ../output/S01_host_ER_BM_microbe_random_1000_coral_tree_x100/shared_data/S01_0050_FEATURE.qza appears to be valid at level=max.\u001b[0m\r\n",
      "\u001b[0m\u001b[32mResult ../output/S01_host_ER_BM_microbe_random_1000_coral_tree_x100/shared_data/S01_0050_FEATURE.qza appears to be valid at level=max.\u001b[0m\r\n",
      "\u001b[0m"
     ]
    },
    {
     "name": "stdout",
     "output_type": "stream",
     "text": [
      "\u001b[32mImported ../output/S01_host_ER_BM_microbe_random_1000_coral_tree_x100/shared_data/S01_0051_FEATURE.json as BIOMV100Format to ../output/S01_host_ER_BM_microbe_random_1000_coral_tree_x100/shared_data/S01_0051_FEATURE.qza\u001b[0m\r\n",
      "\u001b[0m\u001b[32mImported ../output/S01_host_ER_BM_microbe_random_1000_coral_tree_x100/shared_data/S01_0051_FEATURE.json as BIOMV100Format to ../output/S01_host_ER_BM_microbe_random_1000_coral_tree_x100/shared_data/S01_0051_FEATURE.qza\u001b[0m\r\n",
      "\u001b[0m"
     ]
    },
    {
     "name": "stdout",
     "output_type": "stream",
     "text": [
      "\u001b[32mResult ../output/S01_host_ER_BM_microbe_random_1000_coral_tree_x100/shared_data/S01_0051_FEATURE.qza appears to be valid at level=max.\u001b[0m\r\n",
      "\u001b[0m\u001b[32mResult ../output/S01_host_ER_BM_microbe_random_1000_coral_tree_x100/shared_data/S01_0051_FEATURE.qza appears to be valid at level=max.\u001b[0m\r\n",
      "\u001b[0m"
     ]
    },
    {
     "name": "stdout",
     "output_type": "stream",
     "text": [
      "\u001b[32mImported ../output/S01_host_ER_BM_microbe_random_1000_coral_tree_x100/shared_data/S01_0052_FEATURE.json as BIOMV100Format to ../output/S01_host_ER_BM_microbe_random_1000_coral_tree_x100/shared_data/S01_0052_FEATURE.qza\u001b[0m\r\n",
      "\u001b[0m\u001b[32mImported ../output/S01_host_ER_BM_microbe_random_1000_coral_tree_x100/shared_data/S01_0052_FEATURE.json as BIOMV100Format to ../output/S01_host_ER_BM_microbe_random_1000_coral_tree_x100/shared_data/S01_0052_FEATURE.qza\u001b[0m\r\n",
      "\u001b[0m"
     ]
    },
    {
     "name": "stdout",
     "output_type": "stream",
     "text": [
      "\u001b[32mResult ../output/S01_host_ER_BM_microbe_random_1000_coral_tree_x100/shared_data/S01_0052_FEATURE.qza appears to be valid at level=max.\u001b[0m\r\n",
      "\u001b[32mResult ../output/S01_host_ER_BM_microbe_random_1000_coral_tree_x100/shared_data/S01_0052_FEATURE.qza appears to be valid at level=max.\u001b[0m\r\n"
     ]
    },
    {
     "name": "stdout",
     "output_type": "stream",
     "text": [
      "\u001b[0m\u001b[0m"
     ]
    },
    {
     "name": "stdout",
     "output_type": "stream",
     "text": [
      "\u001b[32mImported ../output/S01_host_ER_BM_microbe_random_1000_coral_tree_x100/shared_data/S01_0053_FEATURE.json as BIOMV100Format to ../output/S01_host_ER_BM_microbe_random_1000_coral_tree_x100/shared_data/S01_0053_FEATURE.qza\u001b[0m\r\n",
      "\u001b[0m\u001b[32mImported ../output/S01_host_ER_BM_microbe_random_1000_coral_tree_x100/shared_data/S01_0053_FEATURE.json as BIOMV100Format to ../output/S01_host_ER_BM_microbe_random_1000_coral_tree_x100/shared_data/S01_0053_FEATURE.qza\u001b[0m\r\n",
      "\u001b[0m"
     ]
    },
    {
     "name": "stdout",
     "output_type": "stream",
     "text": [
      "\u001b[32mResult ../output/S01_host_ER_BM_microbe_random_1000_coral_tree_x100/shared_data/S01_0053_FEATURE.qza appears to be valid at level=max.\u001b[0m\r\n",
      "\u001b[32mResult ../output/S01_host_ER_BM_microbe_random_1000_coral_tree_x100/shared_data/S01_0053_FEATURE.qza appears to be valid at level=max.\u001b[0m\r\n"
     ]
    },
    {
     "name": "stdout",
     "output_type": "stream",
     "text": [
      "\u001b[0m\u001b[0m"
     ]
    },
    {
     "name": "stdout",
     "output_type": "stream",
     "text": [
      "\u001b[32mImported ../output/S01_host_ER_BM_microbe_random_1000_coral_tree_x100/shared_data/S01_0054_FEATURE.json as BIOMV100Format to ../output/S01_host_ER_BM_microbe_random_1000_coral_tree_x100/shared_data/S01_0054_FEATURE.qza\u001b[0m\r\n",
      "\u001b[0m\u001b[32mImported ../output/S01_host_ER_BM_microbe_random_1000_coral_tree_x100/shared_data/S01_0054_FEATURE.json as BIOMV100Format to ../output/S01_host_ER_BM_microbe_random_1000_coral_tree_x100/shared_data/S01_0054_FEATURE.qza\u001b[0m\r\n",
      "\u001b[0m"
     ]
    },
    {
     "name": "stdout",
     "output_type": "stream",
     "text": [
      "\u001b[32mResult ../output/S01_host_ER_BM_microbe_random_1000_coral_tree_x100/shared_data/S01_0054_FEATURE.qza appears to be valid at level=max.\u001b[0m\r\n",
      "\u001b[0m\u001b[32mResult ../output/S01_host_ER_BM_microbe_random_1000_coral_tree_x100/shared_data/S01_0054_FEATURE.qza appears to be valid at level=max.\u001b[0m\r\n",
      "\u001b[0m"
     ]
    },
    {
     "name": "stdout",
     "output_type": "stream",
     "text": [
      "\u001b[32mImported ../output/S01_host_ER_BM_microbe_random_1000_coral_tree_x100/shared_data/S01_0055_FEATURE.json as BIOMV100Format to ../output/S01_host_ER_BM_microbe_random_1000_coral_tree_x100/shared_data/S01_0055_FEATURE.qza\u001b[0m\r\n",
      "\u001b[0m\u001b[32mImported ../output/S01_host_ER_BM_microbe_random_1000_coral_tree_x100/shared_data/S01_0055_FEATURE.json as BIOMV100Format to ../output/S01_host_ER_BM_microbe_random_1000_coral_tree_x100/shared_data/S01_0055_FEATURE.qza\u001b[0m\r\n",
      "\u001b[0m"
     ]
    },
    {
     "name": "stdout",
     "output_type": "stream",
     "text": [
      "\u001b[32mResult ../output/S01_host_ER_BM_microbe_random_1000_coral_tree_x100/shared_data/S01_0055_FEATURE.qza appears to be valid at level=max.\u001b[0m\r\n",
      "\u001b[32mResult ../output/S01_host_ER_BM_microbe_random_1000_coral_tree_x100/shared_data/S01_0055_FEATURE.qza appears to be valid at level=max.\u001b[0m\r\n"
     ]
    },
    {
     "name": "stdout",
     "output_type": "stream",
     "text": [
      "\u001b[0m\u001b[0m"
     ]
    },
    {
     "name": "stdout",
     "output_type": "stream",
     "text": [
      "\u001b[32mImported ../output/S01_host_ER_BM_microbe_random_1000_coral_tree_x100/shared_data/S01_0056_FEATURE.json as BIOMV100Format to ../output/S01_host_ER_BM_microbe_random_1000_coral_tree_x100/shared_data/S01_0056_FEATURE.qza\u001b[0m\r\n",
      "\u001b[0m\u001b[32mImported ../output/S01_host_ER_BM_microbe_random_1000_coral_tree_x100/shared_data/S01_0056_FEATURE.json as BIOMV100Format to ../output/S01_host_ER_BM_microbe_random_1000_coral_tree_x100/shared_data/S01_0056_FEATURE.qza\u001b[0m\r\n",
      "\u001b[0m"
     ]
    },
    {
     "name": "stdout",
     "output_type": "stream",
     "text": [
      "\u001b[32mResult ../output/S01_host_ER_BM_microbe_random_1000_coral_tree_x100/shared_data/S01_0056_FEATURE.qza appears to be valid at level=max.\u001b[0m\r\n",
      "\u001b[0m\u001b[32mResult ../output/S01_host_ER_BM_microbe_random_1000_coral_tree_x100/shared_data/S01_0056_FEATURE.qza appears to be valid at level=max.\u001b[0m\r\n",
      "\u001b[0m"
     ]
    },
    {
     "name": "stdout",
     "output_type": "stream",
     "text": [
      "\u001b[32mImported ../output/S01_host_ER_BM_microbe_random_1000_coral_tree_x100/shared_data/S01_0057_FEATURE.json as BIOMV100Format to ../output/S01_host_ER_BM_microbe_random_1000_coral_tree_x100/shared_data/S01_0057_FEATURE.qza\u001b[0m\r\n",
      "\u001b[0m\u001b[32mImported ../output/S01_host_ER_BM_microbe_random_1000_coral_tree_x100/shared_data/S01_0057_FEATURE.json as BIOMV100Format to ../output/S01_host_ER_BM_microbe_random_1000_coral_tree_x100/shared_data/S01_0057_FEATURE.qza\u001b[0m\r\n",
      "\u001b[0m"
     ]
    },
    {
     "name": "stdout",
     "output_type": "stream",
     "text": [
      "\u001b[32mResult ../output/S01_host_ER_BM_microbe_random_1000_coral_tree_x100/shared_data/S01_0057_FEATURE.qza appears to be valid at level=max.\u001b[0m\r\n",
      "\u001b[0m\u001b[32mResult ../output/S01_host_ER_BM_microbe_random_1000_coral_tree_x100/shared_data/S01_0057_FEATURE.qza appears to be valid at level=max.\u001b[0m\r\n",
      "\u001b[0m"
     ]
    },
    {
     "name": "stdout",
     "output_type": "stream",
     "text": [
      "\u001b[32mImported ../output/S01_host_ER_BM_microbe_random_1000_coral_tree_x100/shared_data/S01_0058_FEATURE.json as BIOMV100Format to ../output/S01_host_ER_BM_microbe_random_1000_coral_tree_x100/shared_data/S01_0058_FEATURE.qza\u001b[0m\r\n",
      "\u001b[0m\u001b[32mImported ../output/S01_host_ER_BM_microbe_random_1000_coral_tree_x100/shared_data/S01_0058_FEATURE.json as BIOMV100Format to ../output/S01_host_ER_BM_microbe_random_1000_coral_tree_x100/shared_data/S01_0058_FEATURE.qza\u001b[0m\r\n",
      "\u001b[0m"
     ]
    },
    {
     "name": "stdout",
     "output_type": "stream",
     "text": [
      "\u001b[32mResult ../output/S01_host_ER_BM_microbe_random_1000_coral_tree_x100/shared_data/S01_0058_FEATURE.qza appears to be valid at level=max.\u001b[0m\r\n",
      "\u001b[0m\u001b[32mResult ../output/S01_host_ER_BM_microbe_random_1000_coral_tree_x100/shared_data/S01_0058_FEATURE.qza appears to be valid at level=max.\u001b[0m\r\n",
      "\u001b[0m"
     ]
    },
    {
     "name": "stdout",
     "output_type": "stream",
     "text": [
      "\u001b[32mImported ../output/S01_host_ER_BM_microbe_random_1000_coral_tree_x100/shared_data/S01_0059_FEATURE.json as BIOMV100Format to ../output/S01_host_ER_BM_microbe_random_1000_coral_tree_x100/shared_data/S01_0059_FEATURE.qza\u001b[0m\r\n",
      "\u001b[32mImported ../output/S01_host_ER_BM_microbe_random_1000_coral_tree_x100/shared_data/S01_0059_FEATURE.json as BIOMV100Format to ../output/S01_host_ER_BM_microbe_random_1000_coral_tree_x100/shared_data/S01_0059_FEATURE.qza\u001b[0m\r\n"
     ]
    },
    {
     "name": "stdout",
     "output_type": "stream",
     "text": [
      "\u001b[0m\u001b[0m"
     ]
    },
    {
     "name": "stdout",
     "output_type": "stream",
     "text": [
      "\u001b[32mResult ../output/S01_host_ER_BM_microbe_random_1000_coral_tree_x100/shared_data/S01_0059_FEATURE.qza appears to be valid at level=max.\u001b[0m\r\n",
      "\u001b[0m\u001b[32mResult ../output/S01_host_ER_BM_microbe_random_1000_coral_tree_x100/shared_data/S01_0059_FEATURE.qza appears to be valid at level=max.\u001b[0m\r\n",
      "\u001b[0m"
     ]
    },
    {
     "name": "stdout",
     "output_type": "stream",
     "text": [
      "\u001b[32mImported ../output/S01_host_ER_BM_microbe_random_1000_coral_tree_x100/shared_data/S01_0060_FEATURE.json as BIOMV100Format to ../output/S01_host_ER_BM_microbe_random_1000_coral_tree_x100/shared_data/S01_0060_FEATURE.qza\u001b[0m\r\n",
      "\u001b[0m\u001b[32mImported ../output/S01_host_ER_BM_microbe_random_1000_coral_tree_x100/shared_data/S01_0060_FEATURE.json as BIOMV100Format to ../output/S01_host_ER_BM_microbe_random_1000_coral_tree_x100/shared_data/S01_0060_FEATURE.qza\u001b[0m\r\n",
      "\u001b[0m"
     ]
    },
    {
     "name": "stdout",
     "output_type": "stream",
     "text": [
      "\u001b[32mResult ../output/S01_host_ER_BM_microbe_random_1000_coral_tree_x100/shared_data/S01_0060_FEATURE.qza appears to be valid at level=max.\u001b[0m\r\n",
      "\u001b[0m\u001b[32mResult ../output/S01_host_ER_BM_microbe_random_1000_coral_tree_x100/shared_data/S01_0060_FEATURE.qza appears to be valid at level=max.\u001b[0m\r\n",
      "\u001b[0m"
     ]
    },
    {
     "name": "stdout",
     "output_type": "stream",
     "text": [
      "\u001b[32mImported ../output/S01_host_ER_BM_microbe_random_1000_coral_tree_x100/shared_data/S01_0061_FEATURE.json as BIOMV100Format to ../output/S01_host_ER_BM_microbe_random_1000_coral_tree_x100/shared_data/S01_0061_FEATURE.qza\u001b[0m\r\n",
      "\u001b[32mImported ../output/S01_host_ER_BM_microbe_random_1000_coral_tree_x100/shared_data/S01_0061_FEATURE.json as BIOMV100Format to ../output/S01_host_ER_BM_microbe_random_1000_coral_tree_x100/shared_data/S01_0061_FEATURE.qza\u001b[0m\r\n"
     ]
    },
    {
     "name": "stdout",
     "output_type": "stream",
     "text": [
      "\u001b[0m\u001b[0m"
     ]
    },
    {
     "name": "stdout",
     "output_type": "stream",
     "text": [
      "\u001b[32mResult ../output/S01_host_ER_BM_microbe_random_1000_coral_tree_x100/shared_data/S01_0061_FEATURE.qza appears to be valid at level=max.\u001b[0m\r\n",
      "\u001b[0m\u001b[32mResult ../output/S01_host_ER_BM_microbe_random_1000_coral_tree_x100/shared_data/S01_0061_FEATURE.qza appears to be valid at level=max.\u001b[0m\r\n",
      "\u001b[0m"
     ]
    },
    {
     "name": "stdout",
     "output_type": "stream",
     "text": [
      "\u001b[32mImported ../output/S01_host_ER_BM_microbe_random_1000_coral_tree_x100/shared_data/S01_0062_FEATURE.json as BIOMV100Format to ../output/S01_host_ER_BM_microbe_random_1000_coral_tree_x100/shared_data/S01_0062_FEATURE.qza\u001b[0m\r\n",
      "\u001b[32mImported ../output/S01_host_ER_BM_microbe_random_1000_coral_tree_x100/shared_data/S01_0062_FEATURE.json as BIOMV100Format to ../output/S01_host_ER_BM_microbe_random_1000_coral_tree_x100/shared_data/S01_0062_FEATURE.qza\u001b[0m\r\n"
     ]
    },
    {
     "name": "stdout",
     "output_type": "stream",
     "text": [
      "\u001b[0m\u001b[0m"
     ]
    },
    {
     "name": "stdout",
     "output_type": "stream",
     "text": [
      "\u001b[32mResult ../output/S01_host_ER_BM_microbe_random_1000_coral_tree_x100/shared_data/S01_0062_FEATURE.qza appears to be valid at level=max.\u001b[0m\r\n",
      "\u001b[0m\u001b[32mResult ../output/S01_host_ER_BM_microbe_random_1000_coral_tree_x100/shared_data/S01_0062_FEATURE.qza appears to be valid at level=max.\u001b[0m\r\n",
      "\u001b[0m"
     ]
    },
    {
     "name": "stdout",
     "output_type": "stream",
     "text": [
      "\u001b[32mImported ../output/S01_host_ER_BM_microbe_random_1000_coral_tree_x100/shared_data/S01_0063_FEATURE.json as BIOMV100Format to ../output/S01_host_ER_BM_microbe_random_1000_coral_tree_x100/shared_data/S01_0063_FEATURE.qza\u001b[0m\r\n",
      "\u001b[32mImported ../output/S01_host_ER_BM_microbe_random_1000_coral_tree_x100/shared_data/S01_0063_FEATURE.json as BIOMV100Format to ../output/S01_host_ER_BM_microbe_random_1000_coral_tree_x100/shared_data/S01_0063_FEATURE.qza\u001b[0m\r\n"
     ]
    },
    {
     "name": "stdout",
     "output_type": "stream",
     "text": [
      "\u001b[0m\u001b[0m"
     ]
    },
    {
     "name": "stdout",
     "output_type": "stream",
     "text": [
      "\u001b[32mResult ../output/S01_host_ER_BM_microbe_random_1000_coral_tree_x100/shared_data/S01_0063_FEATURE.qza appears to be valid at level=max.\u001b[0m\r\n",
      "\u001b[0m\u001b[32mResult ../output/S01_host_ER_BM_microbe_random_1000_coral_tree_x100/shared_data/S01_0063_FEATURE.qza appears to be valid at level=max.\u001b[0m\r\n",
      "\u001b[0m"
     ]
    },
    {
     "name": "stdout",
     "output_type": "stream",
     "text": [
      "\u001b[32mImported ../output/S01_host_ER_BM_microbe_random_1000_coral_tree_x100/shared_data/S01_0064_FEATURE.json as BIOMV100Format to ../output/S01_host_ER_BM_microbe_random_1000_coral_tree_x100/shared_data/S01_0064_FEATURE.qza\u001b[0m\r\n",
      "\u001b[0m\u001b[32mImported ../output/S01_host_ER_BM_microbe_random_1000_coral_tree_x100/shared_data/S01_0064_FEATURE.json as BIOMV100Format to ../output/S01_host_ER_BM_microbe_random_1000_coral_tree_x100/shared_data/S01_0064_FEATURE.qza\u001b[0m\r\n",
      "\u001b[0m"
     ]
    },
    {
     "name": "stdout",
     "output_type": "stream",
     "text": [
      "\u001b[32mResult ../output/S01_host_ER_BM_microbe_random_1000_coral_tree_x100/shared_data/S01_0064_FEATURE.qza appears to be valid at level=max.\u001b[0m\r\n",
      "\u001b[32mResult ../output/S01_host_ER_BM_microbe_random_1000_coral_tree_x100/shared_data/S01_0064_FEATURE.qza appears to be valid at level=max.\u001b[0m\r\n"
     ]
    },
    {
     "name": "stdout",
     "output_type": "stream",
     "text": [
      "\u001b[0m\u001b[0m"
     ]
    },
    {
     "name": "stdout",
     "output_type": "stream",
     "text": [
      "\u001b[32mImported ../output/S01_host_ER_BM_microbe_random_1000_coral_tree_x100/shared_data/S01_0065_FEATURE.json as BIOMV100Format to ../output/S01_host_ER_BM_microbe_random_1000_coral_tree_x100/shared_data/S01_0065_FEATURE.qza\u001b[0m\r\n",
      "\u001b[0m\u001b[32mImported ../output/S01_host_ER_BM_microbe_random_1000_coral_tree_x100/shared_data/S01_0065_FEATURE.json as BIOMV100Format to ../output/S01_host_ER_BM_microbe_random_1000_coral_tree_x100/shared_data/S01_0065_FEATURE.qza\u001b[0m\r\n",
      "\u001b[0m"
     ]
    },
    {
     "name": "stdout",
     "output_type": "stream",
     "text": [
      "\u001b[32mResult ../output/S01_host_ER_BM_microbe_random_1000_coral_tree_x100/shared_data/S01_0065_FEATURE.qza appears to be valid at level=max.\u001b[0m\r\n",
      "\u001b[0m\u001b[32mResult ../output/S01_host_ER_BM_microbe_random_1000_coral_tree_x100/shared_data/S01_0065_FEATURE.qza appears to be valid at level=max.\u001b[0m\r\n",
      "\u001b[0m"
     ]
    },
    {
     "name": "stdout",
     "output_type": "stream",
     "text": [
      "\u001b[32mImported ../output/S01_host_ER_BM_microbe_random_1000_coral_tree_x100/shared_data/S01_0066_FEATURE.json as BIOMV100Format to ../output/S01_host_ER_BM_microbe_random_1000_coral_tree_x100/shared_data/S01_0066_FEATURE.qza\u001b[0m\r\n",
      "\u001b[32mImported ../output/S01_host_ER_BM_microbe_random_1000_coral_tree_x100/shared_data/S01_0066_FEATURE.json as BIOMV100Format to ../output/S01_host_ER_BM_microbe_random_1000_coral_tree_x100/shared_data/S01_0066_FEATURE.qza\u001b[0m\r\n"
     ]
    },
    {
     "name": "stdout",
     "output_type": "stream",
     "text": [
      "\u001b[0m\u001b[0m"
     ]
    },
    {
     "name": "stdout",
     "output_type": "stream",
     "text": [
      "\u001b[32mResult ../output/S01_host_ER_BM_microbe_random_1000_coral_tree_x100/shared_data/S01_0066_FEATURE.qza appears to be valid at level=max.\u001b[0m\r\n",
      "\u001b[0m\u001b[32mResult ../output/S01_host_ER_BM_microbe_random_1000_coral_tree_x100/shared_data/S01_0066_FEATURE.qza appears to be valid at level=max.\u001b[0m\r\n",
      "\u001b[0m"
     ]
    },
    {
     "name": "stdout",
     "output_type": "stream",
     "text": [
      "\u001b[32mImported ../output/S01_host_ER_BM_microbe_random_1000_coral_tree_x100/shared_data/S01_0067_FEATURE.json as BIOMV100Format to ../output/S01_host_ER_BM_microbe_random_1000_coral_tree_x100/shared_data/S01_0067_FEATURE.qza\u001b[0m\r\n",
      "\u001b[32mImported ../output/S01_host_ER_BM_microbe_random_1000_coral_tree_x100/shared_data/S01_0067_FEATURE.json as BIOMV100Format to ../output/S01_host_ER_BM_microbe_random_1000_coral_tree_x100/shared_data/S01_0067_FEATURE.qza\u001b[0m\r\n"
     ]
    },
    {
     "name": "stdout",
     "output_type": "stream",
     "text": [
      "\u001b[0m\u001b[0m"
     ]
    },
    {
     "name": "stdout",
     "output_type": "stream",
     "text": [
      "\u001b[32mResult ../output/S01_host_ER_BM_microbe_random_1000_coral_tree_x100/shared_data/S01_0067_FEATURE.qza appears to be valid at level=max.\u001b[0m\r\n",
      "\u001b[0m\u001b[32mResult ../output/S01_host_ER_BM_microbe_random_1000_coral_tree_x100/shared_data/S01_0067_FEATURE.qza appears to be valid at level=max.\u001b[0m\r\n",
      "\u001b[0m"
     ]
    },
    {
     "name": "stdout",
     "output_type": "stream",
     "text": [
      "\u001b[32mImported ../output/S01_host_ER_BM_microbe_random_1000_coral_tree_x100/shared_data/S01_0068_FEATURE.json as BIOMV100Format to ../output/S01_host_ER_BM_microbe_random_1000_coral_tree_x100/shared_data/S01_0068_FEATURE.qza\u001b[0m\r\n",
      "\u001b[0m\u001b[32mImported ../output/S01_host_ER_BM_microbe_random_1000_coral_tree_x100/shared_data/S01_0068_FEATURE.json as BIOMV100Format to ../output/S01_host_ER_BM_microbe_random_1000_coral_tree_x100/shared_data/S01_0068_FEATURE.qza\u001b[0m\r\n",
      "\u001b[0m"
     ]
    },
    {
     "name": "stdout",
     "output_type": "stream",
     "text": [
      "\u001b[32mResult ../output/S01_host_ER_BM_microbe_random_1000_coral_tree_x100/shared_data/S01_0068_FEATURE.qza appears to be valid at level=max.\u001b[0m\r\n",
      "\u001b[32mResult ../output/S01_host_ER_BM_microbe_random_1000_coral_tree_x100/shared_data/S01_0068_FEATURE.qza appears to be valid at level=max.\u001b[0m\r\n"
     ]
    },
    {
     "name": "stdout",
     "output_type": "stream",
     "text": [
      "\u001b[0m\u001b[0m"
     ]
    },
    {
     "name": "stdout",
     "output_type": "stream",
     "text": [
      "\u001b[32mImported ../output/S01_host_ER_BM_microbe_random_1000_coral_tree_x100/shared_data/S01_0069_FEATURE.json as BIOMV100Format to ../output/S01_host_ER_BM_microbe_random_1000_coral_tree_x100/shared_data/S01_0069_FEATURE.qza\u001b[0m\r\n",
      "\u001b[32mImported ../output/S01_host_ER_BM_microbe_random_1000_coral_tree_x100/shared_data/S01_0069_FEATURE.json as BIOMV100Format to ../output/S01_host_ER_BM_microbe_random_1000_coral_tree_x100/shared_data/S01_0069_FEATURE.qza\u001b[0m\r\n"
     ]
    },
    {
     "name": "stdout",
     "output_type": "stream",
     "text": [
      "\u001b[0m\u001b[0m"
     ]
    },
    {
     "name": "stdout",
     "output_type": "stream",
     "text": [
      "\u001b[32mResult ../output/S01_host_ER_BM_microbe_random_1000_coral_tree_x100/shared_data/S01_0069_FEATURE.qza appears to be valid at level=max.\u001b[0m\r\n",
      "\u001b[32mResult ../output/S01_host_ER_BM_microbe_random_1000_coral_tree_x100/shared_data/S01_0069_FEATURE.qza appears to be valid at level=max.\u001b[0m\r\n"
     ]
    },
    {
     "name": "stdout",
     "output_type": "stream",
     "text": [
      "\u001b[0m\u001b[0m"
     ]
    },
    {
     "name": "stdout",
     "output_type": "stream",
     "text": [
      "\u001b[32mImported ../output/S01_host_ER_BM_microbe_random_1000_coral_tree_x100/shared_data/S01_0070_FEATURE.json as BIOMV100Format to ../output/S01_host_ER_BM_microbe_random_1000_coral_tree_x100/shared_data/S01_0070_FEATURE.qza\u001b[0m\r\n",
      "\u001b[0m\u001b[32mImported ../output/S01_host_ER_BM_microbe_random_1000_coral_tree_x100/shared_data/S01_0070_FEATURE.json as BIOMV100Format to ../output/S01_host_ER_BM_microbe_random_1000_coral_tree_x100/shared_data/S01_0070_FEATURE.qza\u001b[0m\r\n",
      "\u001b[0m"
     ]
    },
    {
     "name": "stdout",
     "output_type": "stream",
     "text": [
      "\u001b[32mResult ../output/S01_host_ER_BM_microbe_random_1000_coral_tree_x100/shared_data/S01_0070_FEATURE.qza appears to be valid at level=max.\u001b[0m\r\n",
      "\u001b[0m\u001b[32mResult ../output/S01_host_ER_BM_microbe_random_1000_coral_tree_x100/shared_data/S01_0070_FEATURE.qza appears to be valid at level=max.\u001b[0m\r\n",
      "\u001b[0m"
     ]
    },
    {
     "name": "stdout",
     "output_type": "stream",
     "text": [
      "\u001b[32mImported ../output/S01_host_ER_BM_microbe_random_1000_coral_tree_x100/shared_data/S01_0071_FEATURE.json as BIOMV100Format to ../output/S01_host_ER_BM_microbe_random_1000_coral_tree_x100/shared_data/S01_0071_FEATURE.qza\u001b[0m\r\n",
      "\u001b[0m\u001b[32mImported ../output/S01_host_ER_BM_microbe_random_1000_coral_tree_x100/shared_data/S01_0071_FEATURE.json as BIOMV100Format to ../output/S01_host_ER_BM_microbe_random_1000_coral_tree_x100/shared_data/S01_0071_FEATURE.qza\u001b[0m\r\n",
      "\u001b[0m"
     ]
    },
    {
     "name": "stdout",
     "output_type": "stream",
     "text": [
      "\u001b[32mResult ../output/S01_host_ER_BM_microbe_random_1000_coral_tree_x100/shared_data/S01_0071_FEATURE.qza appears to be valid at level=max.\u001b[0m\r\n",
      "\u001b[0m\u001b[32mResult ../output/S01_host_ER_BM_microbe_random_1000_coral_tree_x100/shared_data/S01_0071_FEATURE.qza appears to be valid at level=max.\u001b[0m\r\n",
      "\u001b[0m"
     ]
    },
    {
     "name": "stdout",
     "output_type": "stream",
     "text": [
      "\u001b[32mImported ../output/S01_host_ER_BM_microbe_random_1000_coral_tree_x100/shared_data/S01_0072_FEATURE.json as BIOMV100Format to ../output/S01_host_ER_BM_microbe_random_1000_coral_tree_x100/shared_data/S01_0072_FEATURE.qza\u001b[0m\r\n",
      "\u001b[32mImported ../output/S01_host_ER_BM_microbe_random_1000_coral_tree_x100/shared_data/S01_0072_FEATURE.json as BIOMV100Format to ../output/S01_host_ER_BM_microbe_random_1000_coral_tree_x100/shared_data/S01_0072_FEATURE.qza\u001b[0m\r\n"
     ]
    },
    {
     "name": "stdout",
     "output_type": "stream",
     "text": [
      "\u001b[0m\u001b[0m"
     ]
    },
    {
     "name": "stdout",
     "output_type": "stream",
     "text": [
      "\u001b[32mResult ../output/S01_host_ER_BM_microbe_random_1000_coral_tree_x100/shared_data/S01_0072_FEATURE.qza appears to be valid at level=max.\u001b[0m\r\n",
      "\u001b[0m\u001b[32mResult ../output/S01_host_ER_BM_microbe_random_1000_coral_tree_x100/shared_data/S01_0072_FEATURE.qza appears to be valid at level=max.\u001b[0m\r\n",
      "\u001b[0m"
     ]
    },
    {
     "name": "stdout",
     "output_type": "stream",
     "text": [
      "\u001b[32mImported ../output/S01_host_ER_BM_microbe_random_1000_coral_tree_x100/shared_data/S01_0073_FEATURE.json as BIOMV100Format to ../output/S01_host_ER_BM_microbe_random_1000_coral_tree_x100/shared_data/S01_0073_FEATURE.qza\u001b[0m\r\n",
      "\u001b[0m\u001b[32mImported ../output/S01_host_ER_BM_microbe_random_1000_coral_tree_x100/shared_data/S01_0073_FEATURE.json as BIOMV100Format to ../output/S01_host_ER_BM_microbe_random_1000_coral_tree_x100/shared_data/S01_0073_FEATURE.qza\u001b[0m\r\n",
      "\u001b[0m"
     ]
    },
    {
     "name": "stdout",
     "output_type": "stream",
     "text": [
      "\u001b[32mResult ../output/S01_host_ER_BM_microbe_random_1000_coral_tree_x100/shared_data/S01_0073_FEATURE.qza appears to be valid at level=max.\u001b[0m\r\n",
      "\u001b[0m\u001b[32mResult ../output/S01_host_ER_BM_microbe_random_1000_coral_tree_x100/shared_data/S01_0073_FEATURE.qza appears to be valid at level=max.\u001b[0m\r\n",
      "\u001b[0m"
     ]
    },
    {
     "name": "stdout",
     "output_type": "stream",
     "text": [
      "\u001b[32mImported ../output/S01_host_ER_BM_microbe_random_1000_coral_tree_x100/shared_data/S01_0074_FEATURE.json as BIOMV100Format to ../output/S01_host_ER_BM_microbe_random_1000_coral_tree_x100/shared_data/S01_0074_FEATURE.qza\u001b[0m\r\n",
      "\u001b[0m\u001b[32mImported ../output/S01_host_ER_BM_microbe_random_1000_coral_tree_x100/shared_data/S01_0074_FEATURE.json as BIOMV100Format to ../output/S01_host_ER_BM_microbe_random_1000_coral_tree_x100/shared_data/S01_0074_FEATURE.qza\u001b[0m\r\n",
      "\u001b[0m"
     ]
    },
    {
     "name": "stdout",
     "output_type": "stream",
     "text": [
      "\u001b[32mResult ../output/S01_host_ER_BM_microbe_random_1000_coral_tree_x100/shared_data/S01_0074_FEATURE.qza appears to be valid at level=max.\u001b[0m\r\n",
      "\u001b[0m\u001b[32mResult ../output/S01_host_ER_BM_microbe_random_1000_coral_tree_x100/shared_data/S01_0074_FEATURE.qza appears to be valid at level=max.\u001b[0m\r\n",
      "\u001b[0m"
     ]
    },
    {
     "name": "stdout",
     "output_type": "stream",
     "text": [
      "\u001b[32mImported ../output/S01_host_ER_BM_microbe_random_1000_coral_tree_x100/shared_data/S01_0075_FEATURE.json as BIOMV100Format to ../output/S01_host_ER_BM_microbe_random_1000_coral_tree_x100/shared_data/S01_0075_FEATURE.qza\u001b[0m\r\n",
      "\u001b[32mImported ../output/S01_host_ER_BM_microbe_random_1000_coral_tree_x100/shared_data/S01_0075_FEATURE.json as BIOMV100Format to ../output/S01_host_ER_BM_microbe_random_1000_coral_tree_x100/shared_data/S01_0075_FEATURE.qza\u001b[0m\r\n"
     ]
    },
    {
     "name": "stdout",
     "output_type": "stream",
     "text": [
      "\u001b[0m\u001b[0m"
     ]
    },
    {
     "name": "stdout",
     "output_type": "stream",
     "text": [
      "\u001b[32mResult ../output/S01_host_ER_BM_microbe_random_1000_coral_tree_x100/shared_data/S01_0075_FEATURE.qza appears to be valid at level=max.\u001b[0m\r\n",
      "\u001b[0m\u001b[32mResult ../output/S01_host_ER_BM_microbe_random_1000_coral_tree_x100/shared_data/S01_0075_FEATURE.qza appears to be valid at level=max.\u001b[0m\r\n",
      "\u001b[0m"
     ]
    },
    {
     "name": "stdout",
     "output_type": "stream",
     "text": [
      "\u001b[32mImported ../output/S01_host_ER_BM_microbe_random_1000_coral_tree_x100/shared_data/S01_0076_FEATURE.json as BIOMV100Format to ../output/S01_host_ER_BM_microbe_random_1000_coral_tree_x100/shared_data/S01_0076_FEATURE.qza\u001b[0m\r\n",
      "\u001b[0m\u001b[32mImported ../output/S01_host_ER_BM_microbe_random_1000_coral_tree_x100/shared_data/S01_0076_FEATURE.json as BIOMV100Format to ../output/S01_host_ER_BM_microbe_random_1000_coral_tree_x100/shared_data/S01_0076_FEATURE.qza\u001b[0m\r\n",
      "\u001b[0m"
     ]
    },
    {
     "name": "stdout",
     "output_type": "stream",
     "text": [
      "\u001b[32mResult ../output/S01_host_ER_BM_microbe_random_1000_coral_tree_x100/shared_data/S01_0076_FEATURE.qza appears to be valid at level=max.\u001b[0m\r\n",
      "\u001b[0m\u001b[32mResult ../output/S01_host_ER_BM_microbe_random_1000_coral_tree_x100/shared_data/S01_0076_FEATURE.qza appears to be valid at level=max.\u001b[0m\r\n",
      "\u001b[0m"
     ]
    },
    {
     "name": "stdout",
     "output_type": "stream",
     "text": [
      "\u001b[32mImported ../output/S01_host_ER_BM_microbe_random_1000_coral_tree_x100/shared_data/S01_0077_FEATURE.json as BIOMV100Format to ../output/S01_host_ER_BM_microbe_random_1000_coral_tree_x100/shared_data/S01_0077_FEATURE.qza\u001b[0m\r\n",
      "\u001b[0m\u001b[32mImported ../output/S01_host_ER_BM_microbe_random_1000_coral_tree_x100/shared_data/S01_0077_FEATURE.json as BIOMV100Format to ../output/S01_host_ER_BM_microbe_random_1000_coral_tree_x100/shared_data/S01_0077_FEATURE.qza\u001b[0m\r\n",
      "\u001b[0m"
     ]
    },
    {
     "name": "stdout",
     "output_type": "stream",
     "text": [
      "\u001b[32mResult ../output/S01_host_ER_BM_microbe_random_1000_coral_tree_x100/shared_data/S01_0077_FEATURE.qza appears to be valid at level=max.\u001b[0m\r\n",
      "\u001b[0m\u001b[32mResult ../output/S01_host_ER_BM_microbe_random_1000_coral_tree_x100/shared_data/S01_0077_FEATURE.qza appears to be valid at level=max.\u001b[0m\r\n",
      "\u001b[0m"
     ]
    },
    {
     "name": "stdout",
     "output_type": "stream",
     "text": [
      "\u001b[32mImported ../output/S01_host_ER_BM_microbe_random_1000_coral_tree_x100/shared_data/S01_0078_FEATURE.json as BIOMV100Format to ../output/S01_host_ER_BM_microbe_random_1000_coral_tree_x100/shared_data/S01_0078_FEATURE.qza\u001b[0m\r\n",
      "\u001b[32mImported ../output/S01_host_ER_BM_microbe_random_1000_coral_tree_x100/shared_data/S01_0078_FEATURE.json as BIOMV100Format to ../output/S01_host_ER_BM_microbe_random_1000_coral_tree_x100/shared_data/S01_0078_FEATURE.qza\u001b[0m\r\n"
     ]
    },
    {
     "name": "stdout",
     "output_type": "stream",
     "text": [
      "\u001b[0m\u001b[0m"
     ]
    },
    {
     "name": "stdout",
     "output_type": "stream",
     "text": [
      "\u001b[32mResult ../output/S01_host_ER_BM_microbe_random_1000_coral_tree_x100/shared_data/S01_0078_FEATURE.qza appears to be valid at level=max.\u001b[0m\r\n",
      "\u001b[32mResult ../output/S01_host_ER_BM_microbe_random_1000_coral_tree_x100/shared_data/S01_0078_FEATURE.qza appears to be valid at level=max.\u001b[0m\r\n"
     ]
    },
    {
     "name": "stdout",
     "output_type": "stream",
     "text": [
      "\u001b[0m\u001b[0m"
     ]
    },
    {
     "name": "stdout",
     "output_type": "stream",
     "text": [
      "\u001b[32mImported ../output/S01_host_ER_BM_microbe_random_1000_coral_tree_x100/shared_data/S01_0079_FEATURE.json as BIOMV100Format to ../output/S01_host_ER_BM_microbe_random_1000_coral_tree_x100/shared_data/S01_0079_FEATURE.qza\u001b[0m\r\n",
      "\u001b[32mImported ../output/S01_host_ER_BM_microbe_random_1000_coral_tree_x100/shared_data/S01_0079_FEATURE.json as BIOMV100Format to ../output/S01_host_ER_BM_microbe_random_1000_coral_tree_x100/shared_data/S01_0079_FEATURE.qza\u001b[0m\r\n"
     ]
    },
    {
     "name": "stdout",
     "output_type": "stream",
     "text": [
      "\u001b[0m\u001b[0m"
     ]
    },
    {
     "name": "stdout",
     "output_type": "stream",
     "text": [
      "\u001b[32mResult ../output/S01_host_ER_BM_microbe_random_1000_coral_tree_x100/shared_data/S01_0079_FEATURE.qza appears to be valid at level=max.\u001b[0m\r\n",
      "\u001b[0m\u001b[32mResult ../output/S01_host_ER_BM_microbe_random_1000_coral_tree_x100/shared_data/S01_0079_FEATURE.qza appears to be valid at level=max.\u001b[0m\r\n",
      "\u001b[0m"
     ]
    },
    {
     "name": "stdout",
     "output_type": "stream",
     "text": [
      "\u001b[32mImported ../output/S01_host_ER_BM_microbe_random_1000_coral_tree_x100/shared_data/S01_0080_FEATURE.json as BIOMV100Format to ../output/S01_host_ER_BM_microbe_random_1000_coral_tree_x100/shared_data/S01_0080_FEATURE.qza\u001b[0m\r\n",
      "\u001b[0m\u001b[32mImported ../output/S01_host_ER_BM_microbe_random_1000_coral_tree_x100/shared_data/S01_0080_FEATURE.json as BIOMV100Format to ../output/S01_host_ER_BM_microbe_random_1000_coral_tree_x100/shared_data/S01_0080_FEATURE.qza\u001b[0m\r\n",
      "\u001b[0m"
     ]
    },
    {
     "name": "stdout",
     "output_type": "stream",
     "text": [
      "\u001b[32mResult ../output/S01_host_ER_BM_microbe_random_1000_coral_tree_x100/shared_data/S01_0080_FEATURE.qza appears to be valid at level=max.\u001b[0m\r\n",
      "\u001b[0m\u001b[32mResult ../output/S01_host_ER_BM_microbe_random_1000_coral_tree_x100/shared_data/S01_0080_FEATURE.qza appears to be valid at level=max.\u001b[0m\r\n",
      "\u001b[0m"
     ]
    },
    {
     "name": "stdout",
     "output_type": "stream",
     "text": [
      "\u001b[32mImported ../output/S01_host_ER_BM_microbe_random_1000_coral_tree_x100/shared_data/S01_0081_FEATURE.json as BIOMV100Format to ../output/S01_host_ER_BM_microbe_random_1000_coral_tree_x100/shared_data/S01_0081_FEATURE.qza\u001b[0m\r\n",
      "\u001b[0m\u001b[32mImported ../output/S01_host_ER_BM_microbe_random_1000_coral_tree_x100/shared_data/S01_0081_FEATURE.json as BIOMV100Format to ../output/S01_host_ER_BM_microbe_random_1000_coral_tree_x100/shared_data/S01_0081_FEATURE.qza\u001b[0m\r\n",
      "\u001b[0m"
     ]
    },
    {
     "name": "stdout",
     "output_type": "stream",
     "text": [
      "\u001b[32mResult ../output/S01_host_ER_BM_microbe_random_1000_coral_tree_x100/shared_data/S01_0081_FEATURE.qza appears to be valid at level=max.\u001b[0m\r\n",
      "\u001b[0m\u001b[32mResult ../output/S01_host_ER_BM_microbe_random_1000_coral_tree_x100/shared_data/S01_0081_FEATURE.qza appears to be valid at level=max.\u001b[0m\r\n",
      "\u001b[0m"
     ]
    },
    {
     "name": "stdout",
     "output_type": "stream",
     "text": [
      "\u001b[32mImported ../output/S01_host_ER_BM_microbe_random_1000_coral_tree_x100/shared_data/S01_0082_FEATURE.json as BIOMV100Format to ../output/S01_host_ER_BM_microbe_random_1000_coral_tree_x100/shared_data/S01_0082_FEATURE.qza\u001b[0m\r\n",
      "\u001b[0m\u001b[32mImported ../output/S01_host_ER_BM_microbe_random_1000_coral_tree_x100/shared_data/S01_0082_FEATURE.json as BIOMV100Format to ../output/S01_host_ER_BM_microbe_random_1000_coral_tree_x100/shared_data/S01_0082_FEATURE.qza\u001b[0m\r\n",
      "\u001b[0m"
     ]
    },
    {
     "name": "stdout",
     "output_type": "stream",
     "text": [
      "\u001b[32mResult ../output/S01_host_ER_BM_microbe_random_1000_coral_tree_x100/shared_data/S01_0082_FEATURE.qza appears to be valid at level=max.\u001b[0m\r\n",
      "\u001b[0m\u001b[32mResult ../output/S01_host_ER_BM_microbe_random_1000_coral_tree_x100/shared_data/S01_0082_FEATURE.qza appears to be valid at level=max.\u001b[0m\r\n",
      "\u001b[0m"
     ]
    },
    {
     "name": "stdout",
     "output_type": "stream",
     "text": [
      "\u001b[32mImported ../output/S01_host_ER_BM_microbe_random_1000_coral_tree_x100/shared_data/S01_0083_FEATURE.json as BIOMV100Format to ../output/S01_host_ER_BM_microbe_random_1000_coral_tree_x100/shared_data/S01_0083_FEATURE.qza\u001b[0m\r\n",
      "\u001b[32mImported ../output/S01_host_ER_BM_microbe_random_1000_coral_tree_x100/shared_data/S01_0083_FEATURE.json as BIOMV100Format to ../output/S01_host_ER_BM_microbe_random_1000_coral_tree_x100/shared_data/S01_0083_FEATURE.qza\u001b[0m\r\n"
     ]
    },
    {
     "name": "stdout",
     "output_type": "stream",
     "text": [
      "\u001b[0m\u001b[0m"
     ]
    },
    {
     "name": "stdout",
     "output_type": "stream",
     "text": [
      "\u001b[32mResult ../output/S01_host_ER_BM_microbe_random_1000_coral_tree_x100/shared_data/S01_0083_FEATURE.qza appears to be valid at level=max.\u001b[0m\r\n",
      "\u001b[32mResult ../output/S01_host_ER_BM_microbe_random_1000_coral_tree_x100/shared_data/S01_0083_FEATURE.qza appears to be valid at level=max.\u001b[0m\r\n"
     ]
    },
    {
     "name": "stdout",
     "output_type": "stream",
     "text": [
      "\u001b[0m\u001b[0m"
     ]
    },
    {
     "name": "stdout",
     "output_type": "stream",
     "text": [
      "\u001b[32mImported ../output/S01_host_ER_BM_microbe_random_1000_coral_tree_x100/shared_data/S01_0084_FEATURE.json as BIOMV100Format to ../output/S01_host_ER_BM_microbe_random_1000_coral_tree_x100/shared_data/S01_0084_FEATURE.qza\u001b[0m\r\n",
      "\u001b[32mImported ../output/S01_host_ER_BM_microbe_random_1000_coral_tree_x100/shared_data/S01_0084_FEATURE.json as BIOMV100Format to ../output/S01_host_ER_BM_microbe_random_1000_coral_tree_x100/shared_data/S01_0084_FEATURE.qza\u001b[0m\r\n"
     ]
    },
    {
     "name": "stdout",
     "output_type": "stream",
     "text": [
      "\u001b[0m\u001b[0m"
     ]
    },
    {
     "name": "stdout",
     "output_type": "stream",
     "text": [
      "\u001b[32mResult ../output/S01_host_ER_BM_microbe_random_1000_coral_tree_x100/shared_data/S01_0084_FEATURE.qza appears to be valid at level=max.\u001b[0m\r\n",
      "\u001b[0m\u001b[32mResult ../output/S01_host_ER_BM_microbe_random_1000_coral_tree_x100/shared_data/S01_0084_FEATURE.qza appears to be valid at level=max.\u001b[0m\r\n",
      "\u001b[0m"
     ]
    },
    {
     "name": "stdout",
     "output_type": "stream",
     "text": [
      "\u001b[32mImported ../output/S01_host_ER_BM_microbe_random_1000_coral_tree_x100/shared_data/S01_0085_FEATURE.json as BIOMV100Format to ../output/S01_host_ER_BM_microbe_random_1000_coral_tree_x100/shared_data/S01_0085_FEATURE.qza\u001b[0m\r\n",
      "\u001b[0m\u001b[32mImported ../output/S01_host_ER_BM_microbe_random_1000_coral_tree_x100/shared_data/S01_0085_FEATURE.json as BIOMV100Format to ../output/S01_host_ER_BM_microbe_random_1000_coral_tree_x100/shared_data/S01_0085_FEATURE.qza\u001b[0m\r\n",
      "\u001b[0m"
     ]
    },
    {
     "name": "stdout",
     "output_type": "stream",
     "text": [
      "\u001b[32mResult ../output/S01_host_ER_BM_microbe_random_1000_coral_tree_x100/shared_data/S01_0085_FEATURE.qza appears to be valid at level=max.\u001b[0m\r\n",
      "\u001b[32mResult ../output/S01_host_ER_BM_microbe_random_1000_coral_tree_x100/shared_data/S01_0085_FEATURE.qza appears to be valid at level=max.\u001b[0m\r\n"
     ]
    },
    {
     "name": "stdout",
     "output_type": "stream",
     "text": [
      "\u001b[0m\u001b[0m"
     ]
    },
    {
     "name": "stdout",
     "output_type": "stream",
     "text": [
      "\u001b[32mImported ../output/S01_host_ER_BM_microbe_random_1000_coral_tree_x100/shared_data/S01_0086_FEATURE.json as BIOMV100Format to ../output/S01_host_ER_BM_microbe_random_1000_coral_tree_x100/shared_data/S01_0086_FEATURE.qza\u001b[0m\r\n",
      "\u001b[0m\u001b[32mImported ../output/S01_host_ER_BM_microbe_random_1000_coral_tree_x100/shared_data/S01_0086_FEATURE.json as BIOMV100Format to ../output/S01_host_ER_BM_microbe_random_1000_coral_tree_x100/shared_data/S01_0086_FEATURE.qza\u001b[0m\r\n",
      "\u001b[0m"
     ]
    },
    {
     "name": "stdout",
     "output_type": "stream",
     "text": [
      "\u001b[32mResult ../output/S01_host_ER_BM_microbe_random_1000_coral_tree_x100/shared_data/S01_0086_FEATURE.qza appears to be valid at level=max.\u001b[0m\r\n",
      "\u001b[32mResult ../output/S01_host_ER_BM_microbe_random_1000_coral_tree_x100/shared_data/S01_0086_FEATURE.qza appears to be valid at level=max.\u001b[0m\r\n"
     ]
    },
    {
     "name": "stdout",
     "output_type": "stream",
     "text": [
      "\u001b[0m\u001b[0m"
     ]
    },
    {
     "name": "stdout",
     "output_type": "stream",
     "text": [
      "\u001b[32mImported ../output/S01_host_ER_BM_microbe_random_1000_coral_tree_x100/shared_data/S01_0087_FEATURE.json as BIOMV100Format to ../output/S01_host_ER_BM_microbe_random_1000_coral_tree_x100/shared_data/S01_0087_FEATURE.qza\u001b[0m\r\n",
      "\u001b[32mImported ../output/S01_host_ER_BM_microbe_random_1000_coral_tree_x100/shared_data/S01_0087_FEATURE.json as BIOMV100Format to ../output/S01_host_ER_BM_microbe_random_1000_coral_tree_x100/shared_data/S01_0087_FEATURE.qza\u001b[0m\r\n"
     ]
    },
    {
     "name": "stdout",
     "output_type": "stream",
     "text": [
      "\u001b[0m\u001b[0m"
     ]
    },
    {
     "name": "stdout",
     "output_type": "stream",
     "text": [
      "\u001b[32mResult ../output/S01_host_ER_BM_microbe_random_1000_coral_tree_x100/shared_data/S01_0087_FEATURE.qza appears to be valid at level=max.\u001b[0m\r\n",
      "\u001b[0m\u001b[32mResult ../output/S01_host_ER_BM_microbe_random_1000_coral_tree_x100/shared_data/S01_0087_FEATURE.qza appears to be valid at level=max.\u001b[0m\r\n",
      "\u001b[0m"
     ]
    },
    {
     "name": "stdout",
     "output_type": "stream",
     "text": [
      "\u001b[32mImported ../output/S01_host_ER_BM_microbe_random_1000_coral_tree_x100/shared_data/S01_0088_FEATURE.json as BIOMV100Format to ../output/S01_host_ER_BM_microbe_random_1000_coral_tree_x100/shared_data/S01_0088_FEATURE.qza\u001b[0m\r\n",
      "\u001b[32mImported ../output/S01_host_ER_BM_microbe_random_1000_coral_tree_x100/shared_data/S01_0088_FEATURE.json as BIOMV100Format to ../output/S01_host_ER_BM_microbe_random_1000_coral_tree_x100/shared_data/S01_0088_FEATURE.qza\u001b[0m\r\n"
     ]
    },
    {
     "name": "stdout",
     "output_type": "stream",
     "text": [
      "\u001b[0m\u001b[0m"
     ]
    },
    {
     "name": "stdout",
     "output_type": "stream",
     "text": [
      "\u001b[32mResult ../output/S01_host_ER_BM_microbe_random_1000_coral_tree_x100/shared_data/S01_0088_FEATURE.qza appears to be valid at level=max.\u001b[0m\r\n",
      "\u001b[32mResult ../output/S01_host_ER_BM_microbe_random_1000_coral_tree_x100/shared_data/S01_0088_FEATURE.qza appears to be valid at level=max.\u001b[0m\r\n"
     ]
    },
    {
     "name": "stdout",
     "output_type": "stream",
     "text": [
      "\u001b[0m\u001b[0m"
     ]
    },
    {
     "name": "stdout",
     "output_type": "stream",
     "text": [
      "\u001b[32mImported ../output/S01_host_ER_BM_microbe_random_1000_coral_tree_x100/shared_data/S01_0089_FEATURE.json as BIOMV100Format to ../output/S01_host_ER_BM_microbe_random_1000_coral_tree_x100/shared_data/S01_0089_FEATURE.qza\u001b[0m\r\n",
      "\u001b[0m\u001b[32mImported ../output/S01_host_ER_BM_microbe_random_1000_coral_tree_x100/shared_data/S01_0089_FEATURE.json as BIOMV100Format to ../output/S01_host_ER_BM_microbe_random_1000_coral_tree_x100/shared_data/S01_0089_FEATURE.qza\u001b[0m\r\n",
      "\u001b[0m"
     ]
    },
    {
     "name": "stdout",
     "output_type": "stream",
     "text": [
      "\u001b[32mResult ../output/S01_host_ER_BM_microbe_random_1000_coral_tree_x100/shared_data/S01_0089_FEATURE.qza appears to be valid at level=max.\u001b[0m\r\n",
      "\u001b[0m\u001b[32mResult ../output/S01_host_ER_BM_microbe_random_1000_coral_tree_x100/shared_data/S01_0089_FEATURE.qza appears to be valid at level=max.\u001b[0m\r\n",
      "\u001b[0m"
     ]
    },
    {
     "name": "stdout",
     "output_type": "stream",
     "text": [
      "\u001b[32mImported ../output/S01_host_ER_BM_microbe_random_1000_coral_tree_x100/shared_data/S01_0090_FEATURE.json as BIOMV100Format to ../output/S01_host_ER_BM_microbe_random_1000_coral_tree_x100/shared_data/S01_0090_FEATURE.qza\u001b[0m\r\n",
      "\u001b[0m\u001b[32mImported ../output/S01_host_ER_BM_microbe_random_1000_coral_tree_x100/shared_data/S01_0090_FEATURE.json as BIOMV100Format to ../output/S01_host_ER_BM_microbe_random_1000_coral_tree_x100/shared_data/S01_0090_FEATURE.qza\u001b[0m\r\n",
      "\u001b[0m"
     ]
    },
    {
     "name": "stdout",
     "output_type": "stream",
     "text": [
      "\u001b[32mResult ../output/S01_host_ER_BM_microbe_random_1000_coral_tree_x100/shared_data/S01_0090_FEATURE.qza appears to be valid at level=max.\u001b[0m\r\n",
      "\u001b[0m\u001b[32mResult ../output/S01_host_ER_BM_microbe_random_1000_coral_tree_x100/shared_data/S01_0090_FEATURE.qza appears to be valid at level=max.\u001b[0m\r\n",
      "\u001b[0m"
     ]
    },
    {
     "name": "stdout",
     "output_type": "stream",
     "text": [
      "\u001b[32mImported ../output/S01_host_ER_BM_microbe_random_1000_coral_tree_x100/shared_data/S01_0091_FEATURE.json as BIOMV100Format to ../output/S01_host_ER_BM_microbe_random_1000_coral_tree_x100/shared_data/S01_0091_FEATURE.qza\u001b[0m\r\n",
      "\u001b[0m\u001b[32mImported ../output/S01_host_ER_BM_microbe_random_1000_coral_tree_x100/shared_data/S01_0091_FEATURE.json as BIOMV100Format to ../output/S01_host_ER_BM_microbe_random_1000_coral_tree_x100/shared_data/S01_0091_FEATURE.qza\u001b[0m\r\n",
      "\u001b[0m"
     ]
    },
    {
     "name": "stdout",
     "output_type": "stream",
     "text": [
      "\u001b[32mResult ../output/S01_host_ER_BM_microbe_random_1000_coral_tree_x100/shared_data/S01_0091_FEATURE.qza appears to be valid at level=max.\u001b[0m\r\n",
      "\u001b[0m\u001b[32mResult ../output/S01_host_ER_BM_microbe_random_1000_coral_tree_x100/shared_data/S01_0091_FEATURE.qza appears to be valid at level=max.\u001b[0m\r\n",
      "\u001b[0m"
     ]
    },
    {
     "name": "stdout",
     "output_type": "stream",
     "text": [
      "\u001b[32mImported ../output/S01_host_ER_BM_microbe_random_1000_coral_tree_x100/shared_data/S01_0092_FEATURE.json as BIOMV100Format to ../output/S01_host_ER_BM_microbe_random_1000_coral_tree_x100/shared_data/S01_0092_FEATURE.qza\u001b[0m\r\n",
      "\u001b[0m\u001b[32mImported ../output/S01_host_ER_BM_microbe_random_1000_coral_tree_x100/shared_data/S01_0092_FEATURE.json as BIOMV100Format to ../output/S01_host_ER_BM_microbe_random_1000_coral_tree_x100/shared_data/S01_0092_FEATURE.qza\u001b[0m\r\n",
      "\u001b[0m"
     ]
    },
    {
     "name": "stdout",
     "output_type": "stream",
     "text": [
      "\u001b[32mResult ../output/S01_host_ER_BM_microbe_random_1000_coral_tree_x100/shared_data/S01_0092_FEATURE.qza appears to be valid at level=max.\u001b[0m\r\n",
      "\u001b[32mResult ../output/S01_host_ER_BM_microbe_random_1000_coral_tree_x100/shared_data/S01_0092_FEATURE.qza appears to be valid at level=max.\u001b[0m\r\n"
     ]
    },
    {
     "name": "stdout",
     "output_type": "stream",
     "text": [
      "\u001b[0m\u001b[0m"
     ]
    },
    {
     "name": "stdout",
     "output_type": "stream",
     "text": [
      "\u001b[32mImported ../output/S01_host_ER_BM_microbe_random_1000_coral_tree_x100/shared_data/S01_0093_FEATURE.json as BIOMV100Format to ../output/S01_host_ER_BM_microbe_random_1000_coral_tree_x100/shared_data/S01_0093_FEATURE.qza\u001b[0m\r\n",
      "\u001b[32mImported ../output/S01_host_ER_BM_microbe_random_1000_coral_tree_x100/shared_data/S01_0093_FEATURE.json as BIOMV100Format to ../output/S01_host_ER_BM_microbe_random_1000_coral_tree_x100/shared_data/S01_0093_FEATURE.qza\u001b[0m\r\n"
     ]
    },
    {
     "name": "stdout",
     "output_type": "stream",
     "text": [
      "\u001b[0m\u001b[0m"
     ]
    },
    {
     "name": "stdout",
     "output_type": "stream",
     "text": [
      "\u001b[32mResult ../output/S01_host_ER_BM_microbe_random_1000_coral_tree_x100/shared_data/S01_0093_FEATURE.qza appears to be valid at level=max.\u001b[0m\r\n",
      "\u001b[0m\u001b[32mResult ../output/S01_host_ER_BM_microbe_random_1000_coral_tree_x100/shared_data/S01_0093_FEATURE.qza appears to be valid at level=max.\u001b[0m\r\n",
      "\u001b[0m"
     ]
    },
    {
     "name": "stdout",
     "output_type": "stream",
     "text": [
      "\u001b[32mImported ../output/S01_host_ER_BM_microbe_random_1000_coral_tree_x100/shared_data/S01_0094_FEATURE.json as BIOMV100Format to ../output/S01_host_ER_BM_microbe_random_1000_coral_tree_x100/shared_data/S01_0094_FEATURE.qza\u001b[0m\r\n",
      "\u001b[0m\u001b[32mImported ../output/S01_host_ER_BM_microbe_random_1000_coral_tree_x100/shared_data/S01_0094_FEATURE.json as BIOMV100Format to ../output/S01_host_ER_BM_microbe_random_1000_coral_tree_x100/shared_data/S01_0094_FEATURE.qza\u001b[0m\r\n",
      "\u001b[0m"
     ]
    },
    {
     "name": "stdout",
     "output_type": "stream",
     "text": [
      "\u001b[32mResult ../output/S01_host_ER_BM_microbe_random_1000_coral_tree_x100/shared_data/S01_0094_FEATURE.qza appears to be valid at level=max.\u001b[0m\r\n",
      "\u001b[0m\u001b[32mResult ../output/S01_host_ER_BM_microbe_random_1000_coral_tree_x100/shared_data/S01_0094_FEATURE.qza appears to be valid at level=max.\u001b[0m\r\n",
      "\u001b[0m"
     ]
    },
    {
     "name": "stdout",
     "output_type": "stream",
     "text": [
      "\u001b[32mImported ../output/S01_host_ER_BM_microbe_random_1000_coral_tree_x100/shared_data/S01_0095_FEATURE.json as BIOMV100Format to ../output/S01_host_ER_BM_microbe_random_1000_coral_tree_x100/shared_data/S01_0095_FEATURE.qza\u001b[0m\r\n",
      "\u001b[32mImported ../output/S01_host_ER_BM_microbe_random_1000_coral_tree_x100/shared_data/S01_0095_FEATURE.json as BIOMV100Format to ../output/S01_host_ER_BM_microbe_random_1000_coral_tree_x100/shared_data/S01_0095_FEATURE.qza\u001b[0m\r\n"
     ]
    },
    {
     "name": "stdout",
     "output_type": "stream",
     "text": [
      "\u001b[0m\u001b[0m"
     ]
    },
    {
     "name": "stdout",
     "output_type": "stream",
     "text": [
      "\u001b[32mResult ../output/S01_host_ER_BM_microbe_random_1000_coral_tree_x100/shared_data/S01_0095_FEATURE.qza appears to be valid at level=max.\u001b[0m\r\n",
      "\u001b[32mResult ../output/S01_host_ER_BM_microbe_random_1000_coral_tree_x100/shared_data/S01_0095_FEATURE.qza appears to be valid at level=max.\u001b[0m\r\n"
     ]
    },
    {
     "name": "stdout",
     "output_type": "stream",
     "text": [
      "\u001b[0m\u001b[0m"
     ]
    },
    {
     "name": "stdout",
     "output_type": "stream",
     "text": [
      "\u001b[32mImported ../output/S01_host_ER_BM_microbe_random_1000_coral_tree_x100/shared_data/S01_0096_FEATURE.json as BIOMV100Format to ../output/S01_host_ER_BM_microbe_random_1000_coral_tree_x100/shared_data/S01_0096_FEATURE.qza\u001b[0m\r\n",
      "\u001b[0m\u001b[32mImported ../output/S01_host_ER_BM_microbe_random_1000_coral_tree_x100/shared_data/S01_0096_FEATURE.json as BIOMV100Format to ../output/S01_host_ER_BM_microbe_random_1000_coral_tree_x100/shared_data/S01_0096_FEATURE.qza\u001b[0m\r\n",
      "\u001b[0m"
     ]
    },
    {
     "name": "stdout",
     "output_type": "stream",
     "text": [
      "\u001b[32mResult ../output/S01_host_ER_BM_microbe_random_1000_coral_tree_x100/shared_data/S01_0096_FEATURE.qza appears to be valid at level=max.\u001b[0m\r\n",
      "\u001b[0m\u001b[32mResult ../output/S01_host_ER_BM_microbe_random_1000_coral_tree_x100/shared_data/S01_0096_FEATURE.qza appears to be valid at level=max.\u001b[0m\r\n",
      "\u001b[0m"
     ]
    },
    {
     "name": "stdout",
     "output_type": "stream",
     "text": [
      "\u001b[32mImported ../output/S01_host_ER_BM_microbe_random_1000_coral_tree_x100/shared_data/S01_0097_FEATURE.json as BIOMV100Format to ../output/S01_host_ER_BM_microbe_random_1000_coral_tree_x100/shared_data/S01_0097_FEATURE.qza\u001b[0m\r\n",
      "\u001b[0m\u001b[32mImported ../output/S01_host_ER_BM_microbe_random_1000_coral_tree_x100/shared_data/S01_0097_FEATURE.json as BIOMV100Format to ../output/S01_host_ER_BM_microbe_random_1000_coral_tree_x100/shared_data/S01_0097_FEATURE.qza\u001b[0m\r\n",
      "\u001b[0m"
     ]
    },
    {
     "name": "stdout",
     "output_type": "stream",
     "text": [
      "\u001b[32mResult ../output/S01_host_ER_BM_microbe_random_1000_coral_tree_x100/shared_data/S01_0097_FEATURE.qza appears to be valid at level=max.\u001b[0m\r\n",
      "\u001b[0m\u001b[32mResult ../output/S01_host_ER_BM_microbe_random_1000_coral_tree_x100/shared_data/S01_0097_FEATURE.qza appears to be valid at level=max.\u001b[0m\r\n",
      "\u001b[0m"
     ]
    },
    {
     "name": "stdout",
     "output_type": "stream",
     "text": [
      "\u001b[32mImported ../output/S01_host_ER_BM_microbe_random_1000_coral_tree_x100/shared_data/S01_0098_FEATURE.json as BIOMV100Format to ../output/S01_host_ER_BM_microbe_random_1000_coral_tree_x100/shared_data/S01_0098_FEATURE.qza\u001b[0m\r\n",
      "\u001b[0m\u001b[32mImported ../output/S01_host_ER_BM_microbe_random_1000_coral_tree_x100/shared_data/S01_0098_FEATURE.json as BIOMV100Format to ../output/S01_host_ER_BM_microbe_random_1000_coral_tree_x100/shared_data/S01_0098_FEATURE.qza\u001b[0m\r\n",
      "\u001b[0m"
     ]
    },
    {
     "name": "stdout",
     "output_type": "stream",
     "text": [
      "\u001b[32mResult ../output/S01_host_ER_BM_microbe_random_1000_coral_tree_x100/shared_data/S01_0098_FEATURE.qza appears to be valid at level=max.\u001b[0m\r\n",
      "\u001b[32mResult ../output/S01_host_ER_BM_microbe_random_1000_coral_tree_x100/shared_data/S01_0098_FEATURE.qza appears to be valid at level=max.\u001b[0m\r\n"
     ]
    },
    {
     "name": "stdout",
     "output_type": "stream",
     "text": [
      "\u001b[0m\u001b[0m"
     ]
    },
    {
     "name": "stdout",
     "output_type": "stream",
     "text": [
      "\u001b[32mImported ../output/S01_host_ER_BM_microbe_random_1000_coral_tree_x100/shared_data/S01_0099_FEATURE.json as BIOMV100Format to ../output/S01_host_ER_BM_microbe_random_1000_coral_tree_x100/shared_data/S01_0099_FEATURE.qza\u001b[0m\r\n",
      "\u001b[0m\u001b[32mImported ../output/S01_host_ER_BM_microbe_random_1000_coral_tree_x100/shared_data/S01_0099_FEATURE.json as BIOMV100Format to ../output/S01_host_ER_BM_microbe_random_1000_coral_tree_x100/shared_data/S01_0099_FEATURE.qza\u001b[0m\r\n",
      "\u001b[0m"
     ]
    },
    {
     "name": "stdout",
     "output_type": "stream",
     "text": [
      "\u001b[32mResult ../output/S01_host_ER_BM_microbe_random_1000_coral_tree_x100/shared_data/S01_0099_FEATURE.qza appears to be valid at level=max.\u001b[0m\r\n",
      "\u001b[32mResult ../output/S01_host_ER_BM_microbe_random_1000_coral_tree_x100/shared_data/S01_0099_FEATURE.qza appears to be valid at level=max.\u001b[0m\r\n"
     ]
    },
    {
     "name": "stdout",
     "output_type": "stream",
     "text": [
      "\u001b[0m\u001b[0m"
     ]
    },
    {
     "name": "stdout",
     "output_type": "stream",
     "text": [
      "\u001b[32mImported ../output/S01_host_ER_BM_microbe_random_1000_coral_tree_x100/shared_data/S01_0100_FEATURE.json as BIOMV100Format to ../output/S01_host_ER_BM_microbe_random_1000_coral_tree_x100/shared_data/S01_0100_FEATURE.qza\u001b[0m\r\n",
      "\u001b[32mImported ../output/S01_host_ER_BM_microbe_random_1000_coral_tree_x100/shared_data/S01_0100_FEATURE.json as BIOMV100Format to ../output/S01_host_ER_BM_microbe_random_1000_coral_tree_x100/shared_data/S01_0100_FEATURE.qza\u001b[0m\r\n"
     ]
    },
    {
     "name": "stdout",
     "output_type": "stream",
     "text": [
      "\u001b[0m\u001b[0m"
     ]
    },
    {
     "name": "stdout",
     "output_type": "stream",
     "text": [
      "\u001b[32mResult ../output/S01_host_ER_BM_microbe_random_1000_coral_tree_x100/shared_data/S01_0100_FEATURE.qza appears to be valid at level=max.\u001b[0m\r\n",
      "\u001b[0m\u001b[32mResult ../output/S01_host_ER_BM_microbe_random_1000_coral_tree_x100/shared_data/S01_0100_FEATURE.qza appears to be valid at level=max.\u001b[0m\r\n",
      "\u001b[0m"
     ]
    }
   ],
   "source": [
    "process_sim_archive(S01_archive)"
   ]
  },
  {
   "cell_type": "markdown",
   "metadata": {},
   "source": [
    "## PERMANOVA Function"
   ]
  },
  {
   "cell_type": "code",
   "execution_count": 41,
   "metadata": {},
   "outputs": [
    {
     "name": "stdout",
     "output_type": "stream",
     "text": [
      "The history saving thread hit an unexpected error (OperationalError('unable to open database file')).History will not be written to the database.\n",
      "The history saving thread hit an unexpected error (OperationalError('unable to open database file')).History will not be written to the database.\n"
     ]
    }
   ],
   "source": [
    "def run_PERMANOVA(simulation_zip_archive):\n",
    "\n",
    "    sim_folder = os.path.splitext(simulation_zip_archive)[0]\n",
    "    shared_data_folder = join(sim_folder, 'shared_data')\n",
    "    host_files = sorted(glob.glob(join(raw_sim_data_folder, \"*host_traits.tsv\")))\n",
    "    subsim_filestem_list = [extract_simulation_id(filename) for filename in host_files]\n",
    "    feature_files = sorted(glob.glob(join(raw_sim_data_folder, \"*microbial_traits.tsv\")))\n",
    "    n_simulations = len(host_files)\n",
    "\n",
    "    PERMANOVA_full_results_df = pd.DataFrame(columns = ['Group 1','Group 2','Sample size','Permutations','pseudo-F','p-value','q-value'])\n",
    "    \n",
    "    # Create full results container\n",
    "    permanova_folder_name = join(sim_folder, 'PERMANOVA_results')\n",
    "    permanova_path_obj = Path(permanova_folder_name)\n",
    "    if permanova_path_obj.exists() and permanova_path_obj.is_dir():\n",
    "        shutil.rmtree(permanova_folder_name)\n",
    "    os.mkdir(permanova_folder_name)\n",
    "\n",
    "    # Make raw results container\n",
    "    permanova_raw_results_folder = join(permanova_folder_name, 'raw_results')\n",
    "    os.mkdir(permanova_raw_results_folder)\n",
    "\n",
    "    dist_mat_qza_files = sorted(glob.glob(join(shared_data_folder, \"*FEATURE_RAREFIED_DM.qza\")))\n",
    "\n",
    "    # Load metadata and run PERMANOVA\n",
    "    for i in range(n_simulations): # !final product\n",
    "        tmp_metadata_file = host_files[i]\n",
    "        tmp_metadata = Metadata.load(tmp_metadata_file)\n",
    "        discrete_trait = tmp_metadata.get_column('disc_trait_ER')\n",
    "        tmp_dm = qiime2.Artifact.load(dist_mat_qza_files[i])\n",
    "        permanova_results = beta_group_significance(\n",
    "            distance_matrix = tmp_dm,\n",
    "            metadata = discrete_trait,\n",
    "            method = \"permanova\",\n",
    "            pairwise = True\n",
    "        )\n",
    "        \n",
    "        permanova_results_filename = join(permanova_raw_results_folder, \"\".join([host_filestem_list[i], '_PERMANOVA.qzv']))\n",
    "        permanova_results.visualization.save(permanova_results_filename)\n",
    "\n",
    "        # Extract permanova result from zip\n",
    "        with zipfile.ZipFile(permanova_results_filename, 'r') as f:\n",
    "            filelist = f.namelist()\n",
    "            permanova_basepath = os.path.commonprefix(filelist)\n",
    "            tmp_permanova_result_path = str(join(permanova_basepath, 'data', 'permanova-pairwise.csv'))\n",
    "            f.extractall(path = permanova_raw_results_folder, members = [tmp_permanova_result_path])\n",
    "\n",
    "        new_permanova_result_filename = \"\".join(['permanova_results', str(i+1), '.csv'])\n",
    "        os.rename(join(permanova_raw_results_folder, permanova_basepath, 'data', 'permanova-pairwise.csv'), \n",
    "            join(permanova_raw_results_folder, new_permanova_result_filename))\n",
    "        shutil.rmtree(join(permanova_raw_results_folder, permanova_basepath)) # Delete zip after extraction\n",
    "        permanova_df = pd.read_csv(join(permanova_raw_results_folder, new_permanova_result_filename))\n",
    "        PERMANOVA_full_results_df = pd.concat([PERMANOVA_full_results_df, permanova_df])\n",
    "    \n",
    "    return PERMANOVA_full_results_df"
   ]
  },
  {
   "cell_type": "code",
   "execution_count": null,
   "metadata": {},
   "outputs": [],
   "source": [
    "permanova_results_df = run_PERMANOVA()"
   ]
  },
  {
   "cell_type": "code",
   "execution_count": 121,
   "metadata": {},
   "outputs": [
    {
     "name": "stdout",
     "output_type": "stream",
     "text": [
      "False discovery rate: 11.0%\n",
      "Sample size: 100\n",
      "False discovery rate: 11.0%\n",
      "Sample size: 100\n"
     ]
    },
    {
     "data": {
      "text/html": [
       "<div>\n",
       "<style scoped>\n",
       "    .dataframe tbody tr th:only-of-type {\n",
       "        vertical-align: middle;\n",
       "    }\n",
       "\n",
       "    .dataframe tbody tr th {\n",
       "        vertical-align: top;\n",
       "    }\n",
       "\n",
       "    .dataframe thead th {\n",
       "        text-align: right;\n",
       "    }\n",
       "</style>\n",
       "<table border=\"1\" class=\"dataframe\">\n",
       "  <thead>\n",
       "    <tr style=\"text-align: right;\">\n",
       "      <th></th>\n",
       "      <th>Group 1</th>\n",
       "      <th>Group 2</th>\n",
       "      <th>Sample size</th>\n",
       "      <th>Permutations</th>\n",
       "      <th>pseudo-F</th>\n",
       "      <th>p-value</th>\n",
       "      <th>q-value</th>\n",
       "    </tr>\n",
       "  </thead>\n",
       "  <tbody>\n",
       "    <tr>\n",
       "      <th>0</th>\n",
       "      <td>A</td>\n",
       "      <td>B</td>\n",
       "      <td>476</td>\n",
       "      <td>999</td>\n",
       "      <td>0.935217</td>\n",
       "      <td>0.428</td>\n",
       "      <td>0.428</td>\n",
       "    </tr>\n",
       "    <tr>\n",
       "      <th>0</th>\n",
       "      <td>A</td>\n",
       "      <td>B</td>\n",
       "      <td>476</td>\n",
       "      <td>999</td>\n",
       "      <td>1.391671</td>\n",
       "      <td>0.161</td>\n",
       "      <td>0.161</td>\n",
       "    </tr>\n",
       "    <tr>\n",
       "      <th>0</th>\n",
       "      <td>A</td>\n",
       "      <td>B</td>\n",
       "      <td>476</td>\n",
       "      <td>999</td>\n",
       "      <td>0.663082</td>\n",
       "      <td>0.767</td>\n",
       "      <td>0.767</td>\n",
       "    </tr>\n",
       "    <tr>\n",
       "      <th>0</th>\n",
       "      <td>A</td>\n",
       "      <td>B</td>\n",
       "      <td>476</td>\n",
       "      <td>999</td>\n",
       "      <td>0.646299</td>\n",
       "      <td>0.734</td>\n",
       "      <td>0.734</td>\n",
       "    </tr>\n",
       "    <tr>\n",
       "      <th>0</th>\n",
       "      <td>A</td>\n",
       "      <td>B</td>\n",
       "      <td>476</td>\n",
       "      <td>999</td>\n",
       "      <td>0.531741</td>\n",
       "      <td>0.889</td>\n",
       "      <td>0.889</td>\n",
       "    </tr>\n",
       "    <tr>\n",
       "      <th>...</th>\n",
       "      <td>...</td>\n",
       "      <td>...</td>\n",
       "      <td>...</td>\n",
       "      <td>...</td>\n",
       "      <td>...</td>\n",
       "      <td>...</td>\n",
       "      <td>...</td>\n",
       "    </tr>\n",
       "    <tr>\n",
       "      <th>0</th>\n",
       "      <td>A</td>\n",
       "      <td>B</td>\n",
       "      <td>476</td>\n",
       "      <td>999</td>\n",
       "      <td>0.565243</td>\n",
       "      <td>0.838</td>\n",
       "      <td>0.838</td>\n",
       "    </tr>\n",
       "    <tr>\n",
       "      <th>0</th>\n",
       "      <td>A</td>\n",
       "      <td>B</td>\n",
       "      <td>476</td>\n",
       "      <td>999</td>\n",
       "      <td>2.472657</td>\n",
       "      <td>0.026</td>\n",
       "      <td>0.026</td>\n",
       "    </tr>\n",
       "    <tr>\n",
       "      <th>0</th>\n",
       "      <td>A</td>\n",
       "      <td>B</td>\n",
       "      <td>476</td>\n",
       "      <td>999</td>\n",
       "      <td>2.786560</td>\n",
       "      <td>0.014</td>\n",
       "      <td>0.014</td>\n",
       "    </tr>\n",
       "    <tr>\n",
       "      <th>0</th>\n",
       "      <td>A</td>\n",
       "      <td>B</td>\n",
       "      <td>476</td>\n",
       "      <td>999</td>\n",
       "      <td>0.564782</td>\n",
       "      <td>0.866</td>\n",
       "      <td>0.866</td>\n",
       "    </tr>\n",
       "    <tr>\n",
       "      <th>0</th>\n",
       "      <td>A</td>\n",
       "      <td>B</td>\n",
       "      <td>476</td>\n",
       "      <td>999</td>\n",
       "      <td>1.439835</td>\n",
       "      <td>0.165</td>\n",
       "      <td>0.165</td>\n",
       "    </tr>\n",
       "  </tbody>\n",
       "</table>\n",
       "<p>100 rows × 7 columns</p>\n",
       "</div>"
      ],
      "text/plain": [
       "   Group 1 Group 2 Sample size Permutations  pseudo-F  p-value  q-value\n",
       "0        A       B         476          999  0.935217    0.428    0.428\n",
       "0        A       B         476          999  1.391671    0.161    0.161\n",
       "0        A       B         476          999  0.663082    0.767    0.767\n",
       "0        A       B         476          999  0.646299    0.734    0.734\n",
       "0        A       B         476          999  0.531741    0.889    0.889\n",
       "..     ...     ...         ...          ...       ...      ...      ...\n",
       "0        A       B         476          999  0.565243    0.838    0.838\n",
       "0        A       B         476          999  2.472657    0.026    0.026\n",
       "0        A       B         476          999  2.786560    0.014    0.014\n",
       "0        A       B         476          999  0.564782    0.866    0.866\n",
       "0        A       B         476          999  1.439835    0.165    0.165\n",
       "\n",
       "[100 rows x 7 columns]"
      ]
     },
     "execution_count": null,
     "metadata": {},
     "output_type": "execute_result"
    }
   ],
   "source": [
    "PERMANOVA_false_discovery_rate = 100*(sum(permanova_results_df['p-value'] < 0.05)/n_simulations)\n",
    "print(\"False discovery rate: \" + str(PERMANOVA_false_discovery_rate) + \"%\")\n",
    "print(\"Sample size: \" + str(n_simulations))\n",
    "permanova_results_df"
   ]
  },
  {
   "cell_type": "markdown",
   "metadata": {},
   "source": [
    "## Mantel test function"
   ]
  },
  {
   "cell_type": "markdown",
   "metadata": {},
   "source": [
    "### Functions to extract Spearman rho and p-value from html"
   ]
  },
  {
   "cell_type": "code",
   "execution_count": 10,
   "metadata": {},
   "outputs": [],
   "source": [
    "# Spearman rho\n",
    "def extract_spearman_rho(filename):\n",
    "    # Regular expression to find spearman rho\n",
    "    pattern = re.compile(r'<th>Spearman rho</th>\\s*<td>(.*?)</td>', re.IGNORECASE)\n",
    "    \n",
    "    # Read file contents\n",
    "    with open(filename, 'r') as f:\n",
    "        content = f.read()\n",
    "    \n",
    "    # Search for pattern\n",
    "    match = pattern.search(content)\n",
    "    \n",
    "    if match:\n",
    "        # Extract the number between the <td> tags\n",
    "        spearman_rho = match.group(1)\n",
    "        return spearman_rho\n",
    "    else:\n",
    "        return None\n",
    "\n",
    "# p-value\n",
    "\n",
    "def extract_p_value(filename):\n",
    "    # Regular expression to find p-value\n",
    "    pattern = re.compile(r'<th>p-value</th>\\s*<td>(.*?)</td>', re.IGNORECASE)\n",
    "    \n",
    "    # Read file contents\n",
    "    with open(filename, 'r') as f:\n",
    "        content = f.read()\n",
    "    \n",
    "    # Search for pattern\n",
    "    match = pattern.search(content)\n",
    "\n",
    "    if match:\n",
    "        # Extract the number between the <td> tags\n",
    "        p_value = match.group(1)\n",
    "        return p_value\n",
    "    else:\n",
    "        return None\n",
    "\n",
    "# Permutations\n",
    "\n",
    "def extract_permutations(filename):\n",
    "    # Regular expression to find p-value\n",
    "    pattern = re.compile(r'<th>Permutations</th>\\s*<td>(.*?)</td>', re.IGNORECASE)\n",
    "    \n",
    "    # Read file contents\n",
    "    with open(filename, 'r') as f:\n",
    "        content = f.read()\n",
    "    \n",
    "    # Search for pattern\n",
    "    match = pattern.search(content)\n",
    "\n",
    "    if match:\n",
    "        # Extract the number between the <td> tags\n",
    "        p_value = match.group(1)\n",
    "        return p_value\n",
    "    else:\n",
    "        return None"
   ]
  },
  {
   "cell_type": "code",
   "execution_count": 125,
   "metadata": {},
   "outputs": [
    {
     "name": "stdout",
     "output_type": "stream",
     "text": [
      "p-value: 0.000999\n",
      "rho: 0.537043\n",
      "permutations: 1000\n",
      "p-value: 0.000999\n",
      "rho: 0.537043\n",
      "permutations: 1000\n"
     ]
    }
   ],
   "source": [
    "example_file = '../output/tmp_sim_archive/MANTEL_results/raw_results/872fa78d-3dff-4760-a463-1e992ed3f612/data/index.html'\n",
    "example_p_val = extract_p_value(example_file)\n",
    "print(\"p-value: \" + example_p_val)\n",
    "example_rho = extract_spearman_rho(example_file)\n",
    "print(\"rho: \" + example_rho)\n",
    "example_permutations = extract_permutations(example_file)\n",
    "print(\"permutations: \" + example_permutations)"
   ]
  },
  {
   "cell_type": "markdown",
   "metadata": {},
   "source": [
    "### Define and run Mantel function"
   ]
  },
  {
   "cell_type": "code",
   "execution_count": 24,
   "metadata": {},
   "outputs": [],
   "source": [
    "def run_mantel():\n",
    "    # Create full results container\n",
    "    mantel_folder_name = join(tmp_archive, 'MANTEL_results')\n",
    "    mantel_path_obj = Path(mantel_folder_name)\n",
    "    if mantel_path_obj.exists() and mantel_path_obj.is_dir():\n",
    "        shutil.rmtree(mantel_folder_name)\n",
    "    os.mkdir(mantel_folder_name)\n",
    "\n",
    "    # Make raw results container\n",
    "    mantel_raw_results_folder = join(mantel_folder_name, 'raw_results')\n",
    "    os.mkdir(mantel_raw_results_folder)\n",
    "\n",
    "    dist_mat_qza_files = sorted(glob.glob(join(shared_data_folder, \"*DM.qza\")))\n",
    "\n",
    "    Mantel_full_results_df = pd.DataFrame(columns = ['Test','Permutations','p-value','Spearman rho']) # TODO Add mantel.label1 and mantel.label2\n",
    "\n",
    "    for i in range(n_simulations): # !final product\n",
    "    # for i in range(5): # testing   \n",
    "        tmp_metadata_file = host_files[i]\n",
    "        tmp_metadata = Metadata.load(tmp_metadata_file)\n",
    "        host_cont_trait = tmp_metadata.get_column('host_cont_trait')\n",
    "\n",
    "        host_distance_matrix_results = distance_matrix(metadata = host_cont_trait)\n",
    "        host_cont_trait_dm = host_distance_matrix_results.distance_matrix\n",
    "        microbiome_dm = qiime2.Artifact.load(dist_mat_qza_files[i])\n",
    "\n",
    "        mantel_results = mantel(\n",
    "            dm1 = host_cont_trait_dm,\n",
    "            dm2 = microbiome_dm,\n",
    "            method = \"spearman\",\n",
    "            permutations = 10000,\n",
    "            label1 = \"host_cont_trait\",\n",
    "            label2 = \"microbiome_beta_div\"\n",
    "        )\n",
    "\n",
    "        mantel_results_filename = join(mantel_raw_results_folder, \"\".join([host_filestem_list[i], '_MANTEL.qzv']))\n",
    "        mantel_results.visualization.save(mantel_results_filename)\n",
    "        \n",
    "        # Extract mantel result from zip\n",
    "        with zipfile.ZipFile(mantel_results_filename, 'r') as f:\n",
    "            filelist = f.namelist()\n",
    "            mantel_basepath = os.path.commonprefix(filelist)\n",
    "            tmp_mantel_result_path = str(join(mantel_basepath, 'data', 'index.html'))\n",
    "            f.extractall(path = mantel_raw_results_folder, members = [tmp_mantel_result_path])\n",
    "        \n",
    "        new_mantel_result_filename = \"\".join(['mantel_result_', str(i+1), '.html'])\n",
    "        os.rename(join(mantel_raw_results_folder, mantel_basepath, 'data', 'index.html'),\n",
    "            join(mantel_raw_results_folder, new_mantel_result_filename))\n",
    "        shutil.rmtree(join(mantel_raw_results_folder, mantel_basepath)) # Delete zip after extraction\n",
    "        \n",
    "        tmp_mantel_results_html = join(mantel_raw_results_folder, new_mantel_result_filename)\n",
    "        tmp_permutations = int(extract_permutations(tmp_mantel_results_html))\n",
    "        tmp_p_value = float(extract_p_value(tmp_mantel_results_html))\n",
    "        tmp_rho = float(extract_spearman_rho(tmp_mantel_results_html))\n",
    "\n",
    "        result_vector = [\"Mantel\", tmp_permutations, tmp_p_value, tmp_rho] \n",
    "        Mantel_full_results_df.loc[i,:] = result_vector\n",
    "    return Mantel_full_results_df"
   ]
  },
  {
   "cell_type": "code",
   "execution_count": 25,
   "metadata": {},
   "outputs": [],
   "source": [
    "mantel_results_df = run_mantel()\n",
    "\n",
    "# TODO run with random trait values and use the same code to check if it produces significant results every time\n",
    "# ^ with the same host traits"
   ]
  },
  {
   "cell_type": "code",
   "execution_count": 28,
   "metadata": {},
   "outputs": [
    {
     "name": "stdout",
     "output_type": "stream",
     "text": [
      "False discovery rate: 100.0%\n",
      "Sample size: 100\n",
      "False discovery rate: 100.0%\n",
      "Sample size: 100\n"
     ]
    },
    {
     "data": {
      "text/html": [
       "<div>\n",
       "<style scoped>\n",
       "    .dataframe tbody tr th:only-of-type {\n",
       "        vertical-align: middle;\n",
       "    }\n",
       "\n",
       "    .dataframe tbody tr th {\n",
       "        vertical-align: top;\n",
       "    }\n",
       "\n",
       "    .dataframe thead th {\n",
       "        text-align: right;\n",
       "    }\n",
       "</style>\n",
       "<table border=\"1\" class=\"dataframe\">\n",
       "  <thead>\n",
       "    <tr style=\"text-align: right;\">\n",
       "      <th></th>\n",
       "      <th>Test</th>\n",
       "      <th>Permutations</th>\n",
       "      <th>p-value</th>\n",
       "      <th>Spearman rho</th>\n",
       "    </tr>\n",
       "  </thead>\n",
       "  <tbody>\n",
       "    <tr>\n",
       "      <th>0</th>\n",
       "      <td>Mantel</td>\n",
       "      <td>10000</td>\n",
       "      <td>0.0001</td>\n",
       "      <td>0.536122</td>\n",
       "    </tr>\n",
       "    <tr>\n",
       "      <th>1</th>\n",
       "      <td>Mantel</td>\n",
       "      <td>10000</td>\n",
       "      <td>0.0001</td>\n",
       "      <td>0.185757</td>\n",
       "    </tr>\n",
       "    <tr>\n",
       "      <th>2</th>\n",
       "      <td>Mantel</td>\n",
       "      <td>10000</td>\n",
       "      <td>0.0001</td>\n",
       "      <td>0.282656</td>\n",
       "    </tr>\n",
       "    <tr>\n",
       "      <th>3</th>\n",
       "      <td>Mantel</td>\n",
       "      <td>10000</td>\n",
       "      <td>0.0001</td>\n",
       "      <td>0.554965</td>\n",
       "    </tr>\n",
       "    <tr>\n",
       "      <th>4</th>\n",
       "      <td>Mantel</td>\n",
       "      <td>10000</td>\n",
       "      <td>0.0001</td>\n",
       "      <td>0.165143</td>\n",
       "    </tr>\n",
       "    <tr>\n",
       "      <th>...</th>\n",
       "      <td>...</td>\n",
       "      <td>...</td>\n",
       "      <td>...</td>\n",
       "      <td>...</td>\n",
       "    </tr>\n",
       "    <tr>\n",
       "      <th>95</th>\n",
       "      <td>Mantel</td>\n",
       "      <td>10000</td>\n",
       "      <td>0.0001</td>\n",
       "      <td>0.289703</td>\n",
       "    </tr>\n",
       "    <tr>\n",
       "      <th>96</th>\n",
       "      <td>Mantel</td>\n",
       "      <td>10000</td>\n",
       "      <td>0.0001</td>\n",
       "      <td>0.495813</td>\n",
       "    </tr>\n",
       "    <tr>\n",
       "      <th>97</th>\n",
       "      <td>Mantel</td>\n",
       "      <td>10000</td>\n",
       "      <td>0.0001</td>\n",
       "      <td>0.617341</td>\n",
       "    </tr>\n",
       "    <tr>\n",
       "      <th>98</th>\n",
       "      <td>Mantel</td>\n",
       "      <td>10000</td>\n",
       "      <td>0.0001</td>\n",
       "      <td>0.219277</td>\n",
       "    </tr>\n",
       "    <tr>\n",
       "      <th>99</th>\n",
       "      <td>Mantel</td>\n",
       "      <td>10000</td>\n",
       "      <td>0.0001</td>\n",
       "      <td>0.210986</td>\n",
       "    </tr>\n",
       "  </tbody>\n",
       "</table>\n",
       "<p>100 rows × 4 columns</p>\n",
       "</div>"
      ],
      "text/plain": [
       "      Test Permutations p-value Spearman rho\n",
       "0   Mantel        10000  0.0001     0.536122\n",
       "1   Mantel        10000  0.0001     0.185757\n",
       "2   Mantel        10000  0.0001     0.282656\n",
       "3   Mantel        10000  0.0001     0.554965\n",
       "4   Mantel        10000  0.0001     0.165143\n",
       "..     ...          ...     ...          ...\n",
       "95  Mantel        10000  0.0001     0.289703\n",
       "96  Mantel        10000  0.0001     0.495813\n",
       "97  Mantel        10000  0.0001     0.617341\n",
       "98  Mantel        10000  0.0001     0.219277\n",
       "99  Mantel        10000  0.0001     0.210986\n",
       "\n",
       "[100 rows x 4 columns]"
      ]
     },
     "execution_count": null,
     "metadata": {},
     "output_type": "execute_result"
    }
   ],
   "source": [
    "# print(mantel_results_df['p-value'])\n",
    "# print(permanova_results_df['p-value'])\n",
    "# ls = [type(item) for item in mantel_results_df['p-value']]\n",
    "# print(ls)\n",
    "Mantel_false_discovery_rate = 100*(sum(mantel_results_df['p-value'] < 0.05)/n_simulations)\n",
    "print(\"False discovery rate: \" + str(Mantel_false_discovery_rate) + \"%\")\n",
    "print(\"Sample size: \" + str(n_simulations))\n",
    "mantel_results_df"
   ]
  },
  {
   "cell_type": "code",
   "execution_count": 4,
   "metadata": {},
   "outputs": [],
   "source": [
    "help(feature_table.actions.rarefy)"
   ]
  }
 ],
 "metadata": {
  "language_info": {
   "name": "python"
  }
 },
 "nbformat": 4,
 "nbformat_minor": 2
}
